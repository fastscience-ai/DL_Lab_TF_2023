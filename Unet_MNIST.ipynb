{
 "cells": [
  {
   "cell_type": "code",
   "execution_count": 1,
   "id": "404105bb-42e1-46f2-89d7-7c8ae8cc4607",
   "metadata": {},
   "outputs": [
    {
     "name": "stdout",
     "output_type": "stream",
     "text": [
      "Requirement already satisfied: pip in /Users/sookim/miniconda3/lib/python3.12/site-packages (24.0)\n"
     ]
    }
   ],
   "source": [
    "!python3 -m pip install --upgrade pip"
   ]
  },
  {
   "cell_type": "code",
   "execution_count": 2,
   "id": "f2273c73-18fb-4f1b-8477-ba78f2debe0e",
   "metadata": {},
   "outputs": [
    {
     "name": "stdout",
     "output_type": "stream",
     "text": [
      "Requirement already satisfied: torch in /Users/sookim/miniconda3/lib/python3.12/site-packages (2.2.1)\n",
      "Requirement already satisfied: torchvision in /Users/sookim/miniconda3/lib/python3.12/site-packages (0.17.1)\n",
      "Requirement already satisfied: filelock in /Users/sookim/miniconda3/lib/python3.12/site-packages (from torch) (3.13.1)\n",
      "Requirement already satisfied: typing-extensions>=4.8.0 in /Users/sookim/miniconda3/lib/python3.12/site-packages (from torch) (4.10.0)\n",
      "Requirement already satisfied: sympy in /Users/sookim/miniconda3/lib/python3.12/site-packages (from torch) (1.12)\n",
      "Requirement already satisfied: networkx in /Users/sookim/miniconda3/lib/python3.12/site-packages (from torch) (3.2.1)\n",
      "Requirement already satisfied: jinja2 in /Users/sookim/miniconda3/lib/python3.12/site-packages (from torch) (3.1.3)\n",
      "Requirement already satisfied: fsspec in /Users/sookim/miniconda3/lib/python3.12/site-packages (from torch) (2024.3.0)\n",
      "Requirement already satisfied: numpy in /Users/sookim/miniconda3/lib/python3.12/site-packages (from torchvision) (1.26.4)\n",
      "Requirement already satisfied: pillow!=8.3.*,>=5.3.0 in /Users/sookim/miniconda3/lib/python3.12/site-packages (from torchvision) (10.2.0)\n",
      "Requirement already satisfied: MarkupSafe>=2.0 in /Users/sookim/miniconda3/lib/python3.12/site-packages (from jinja2->torch) (2.1.5)\n",
      "Requirement already satisfied: mpmath>=0.19 in /Users/sookim/miniconda3/lib/python3.12/site-packages (from sympy->torch) (1.3.0)\n",
      "Requirement already satisfied: opencv-python in /Users/sookim/miniconda3/lib/python3.12/site-packages (4.9.0.80)\n",
      "Requirement already satisfied: scipy in /Users/sookim/miniconda3/lib/python3.12/site-packages (1.12.0)\n",
      "Requirement already satisfied: matplotlib in /Users/sookim/miniconda3/lib/python3.12/site-packages (3.8.4)\n",
      "Requirement already satisfied: numpy>=1.21.2 in /Users/sookim/miniconda3/lib/python3.12/site-packages (from opencv-python) (1.26.4)\n",
      "Requirement already satisfied: contourpy>=1.0.1 in /Users/sookim/miniconda3/lib/python3.12/site-packages (from matplotlib) (1.2.0)\n",
      "Requirement already satisfied: cycler>=0.10 in /Users/sookim/miniconda3/lib/python3.12/site-packages (from matplotlib) (0.12.1)\n",
      "Requirement already satisfied: fonttools>=4.22.0 in /Users/sookim/miniconda3/lib/python3.12/site-packages (from matplotlib) (4.50.0)\n",
      "Requirement already satisfied: kiwisolver>=1.3.1 in /Users/sookim/miniconda3/lib/python3.12/site-packages (from matplotlib) (1.4.5)\n",
      "Requirement already satisfied: packaging>=20.0 in /Users/sookim/miniconda3/lib/python3.12/site-packages (from matplotlib) (23.1)\n",
      "Requirement already satisfied: pillow>=8 in /Users/sookim/miniconda3/lib/python3.12/site-packages (from matplotlib) (10.2.0)\n",
      "Requirement already satisfied: pyparsing>=2.3.1 in /Users/sookim/miniconda3/lib/python3.12/site-packages (from matplotlib) (3.1.2)\n",
      "Requirement already satisfied: python-dateutil>=2.7 in /Users/sookim/miniconda3/lib/python3.12/site-packages (from matplotlib) (2.9.0.post0)\n",
      "Requirement already satisfied: six>=1.5 in /Users/sookim/miniconda3/lib/python3.12/site-packages (from python-dateutil>=2.7->matplotlib) (1.16.0)\n",
      "Requirement already satisfied: scikit-image in /Users/sookim/miniconda3/lib/python3.12/site-packages (0.22.0)\n",
      "Requirement already satisfied: scikit-learn in /Users/sookim/miniconda3/lib/python3.12/site-packages (1.4.1.post1)\n",
      "Requirement already satisfied: pandas in /Users/sookim/miniconda3/lib/python3.12/site-packages (2.2.1)\n",
      "Requirement already satisfied: jupyterlab in /Users/sookim/miniconda3/lib/python3.12/site-packages (4.1.5)\n",
      "Requirement already satisfied: numpy in /Users/sookim/miniconda3/lib/python3.12/site-packages (1.26.4)\n",
      "Requirement already satisfied: scipy>=1.8 in /Users/sookim/miniconda3/lib/python3.12/site-packages (from scikit-image) (1.12.0)\n",
      "Requirement already satisfied: networkx>=2.8 in /Users/sookim/miniconda3/lib/python3.12/site-packages (from scikit-image) (3.2.1)\n",
      "Requirement already satisfied: pillow>=9.0.1 in /Users/sookim/miniconda3/lib/python3.12/site-packages (from scikit-image) (10.2.0)\n",
      "Requirement already satisfied: imageio>=2.27 in /Users/sookim/miniconda3/lib/python3.12/site-packages (from scikit-image) (2.34.0)\n",
      "Requirement already satisfied: tifffile>=2022.8.12 in /Users/sookim/miniconda3/lib/python3.12/site-packages (from scikit-image) (2024.2.12)\n",
      "Requirement already satisfied: packaging>=21 in /Users/sookim/miniconda3/lib/python3.12/site-packages (from scikit-image) (23.1)\n",
      "Requirement already satisfied: lazy_loader>=0.3 in /Users/sookim/miniconda3/lib/python3.12/site-packages (from scikit-image) (0.4)\n",
      "Requirement already satisfied: joblib>=1.2.0 in /Users/sookim/miniconda3/lib/python3.12/site-packages (from scikit-learn) (1.3.2)\n",
      "Requirement already satisfied: threadpoolctl>=2.0.0 in /Users/sookim/miniconda3/lib/python3.12/site-packages (from scikit-learn) (3.4.0)\n",
      "Requirement already satisfied: python-dateutil>=2.8.2 in /Users/sookim/miniconda3/lib/python3.12/site-packages (from pandas) (2.9.0.post0)\n",
      "Requirement already satisfied: pytz>=2020.1 in /Users/sookim/miniconda3/lib/python3.12/site-packages (from pandas) (2024.1)\n",
      "Requirement already satisfied: tzdata>=2022.7 in /Users/sookim/miniconda3/lib/python3.12/site-packages (from pandas) (2024.1)\n",
      "Requirement already satisfied: async-lru>=1.0.0 in /Users/sookim/miniconda3/lib/python3.12/site-packages (from jupyterlab) (2.0.4)\n",
      "Requirement already satisfied: httpx>=0.25.0 in /Users/sookim/miniconda3/lib/python3.12/site-packages (from jupyterlab) (0.27.0)\n",
      "Requirement already satisfied: ipykernel in /Users/sookim/miniconda3/lib/python3.12/site-packages (from jupyterlab) (6.29.4)\n",
      "Requirement already satisfied: jinja2>=3.0.3 in /Users/sookim/miniconda3/lib/python3.12/site-packages (from jupyterlab) (3.1.3)\n",
      "Requirement already satisfied: jupyter-core in /Users/sookim/miniconda3/lib/python3.12/site-packages (from jupyterlab) (5.7.2)\n",
      "Requirement already satisfied: jupyter-lsp>=2.0.0 in /Users/sookim/miniconda3/lib/python3.12/site-packages (from jupyterlab) (2.2.4)\n",
      "Requirement already satisfied: jupyter-server<3,>=2.4.0 in /Users/sookim/miniconda3/lib/python3.12/site-packages (from jupyterlab) (2.13.0)\n",
      "Requirement already satisfied: jupyterlab-server<3,>=2.19.0 in /Users/sookim/miniconda3/lib/python3.12/site-packages (from jupyterlab) (2.25.4)\n",
      "Requirement already satisfied: notebook-shim>=0.2 in /Users/sookim/miniconda3/lib/python3.12/site-packages (from jupyterlab) (0.2.4)\n",
      "Requirement already satisfied: tornado>=6.2.0 in /Users/sookim/miniconda3/lib/python3.12/site-packages (from jupyterlab) (6.4)\n",
      "Requirement already satisfied: traitlets in /Users/sookim/miniconda3/lib/python3.12/site-packages (from jupyterlab) (5.14.2)\n",
      "Requirement already satisfied: anyio in /Users/sookim/miniconda3/lib/python3.12/site-packages (from httpx>=0.25.0->jupyterlab) (4.3.0)\n",
      "Requirement already satisfied: certifi in /Users/sookim/miniconda3/lib/python3.12/site-packages (from httpx>=0.25.0->jupyterlab) (2024.2.2)\n",
      "Requirement already satisfied: httpcore==1.* in /Users/sookim/miniconda3/lib/python3.12/site-packages (from httpx>=0.25.0->jupyterlab) (1.0.5)\n",
      "Requirement already satisfied: idna in /Users/sookim/miniconda3/lib/python3.12/site-packages (from httpx>=0.25.0->jupyterlab) (3.4)\n",
      "Requirement already satisfied: sniffio in /Users/sookim/miniconda3/lib/python3.12/site-packages (from httpx>=0.25.0->jupyterlab) (1.3.1)\n",
      "Requirement already satisfied: h11<0.15,>=0.13 in /Users/sookim/miniconda3/lib/python3.12/site-packages (from httpcore==1.*->httpx>=0.25.0->jupyterlab) (0.14.0)\n",
      "Requirement already satisfied: MarkupSafe>=2.0 in /Users/sookim/miniconda3/lib/python3.12/site-packages (from jinja2>=3.0.3->jupyterlab) (2.1.5)\n",
      "Requirement already satisfied: argon2-cffi in /Users/sookim/miniconda3/lib/python3.12/site-packages (from jupyter-server<3,>=2.4.0->jupyterlab) (23.1.0)\n",
      "Requirement already satisfied: jupyter-client>=7.4.4 in /Users/sookim/miniconda3/lib/python3.12/site-packages (from jupyter-server<3,>=2.4.0->jupyterlab) (8.6.1)\n",
      "Requirement already satisfied: jupyter-events>=0.9.0 in /Users/sookim/miniconda3/lib/python3.12/site-packages (from jupyter-server<3,>=2.4.0->jupyterlab) (0.10.0)\n",
      "Requirement already satisfied: jupyter-server-terminals in /Users/sookim/miniconda3/lib/python3.12/site-packages (from jupyter-server<3,>=2.4.0->jupyterlab) (0.5.3)\n",
      "Requirement already satisfied: nbconvert>=6.4.4 in /Users/sookim/miniconda3/lib/python3.12/site-packages (from jupyter-server<3,>=2.4.0->jupyterlab) (7.16.3)\n",
      "Requirement already satisfied: nbformat>=5.3.0 in /Users/sookim/miniconda3/lib/python3.12/site-packages (from jupyter-server<3,>=2.4.0->jupyterlab) (5.10.3)\n",
      "Requirement already satisfied: overrides in /Users/sookim/miniconda3/lib/python3.12/site-packages (from jupyter-server<3,>=2.4.0->jupyterlab) (7.7.0)\n",
      "Requirement already satisfied: prometheus-client in /Users/sookim/miniconda3/lib/python3.12/site-packages (from jupyter-server<3,>=2.4.0->jupyterlab) (0.20.0)\n",
      "Requirement already satisfied: pyzmq>=24 in /Users/sookim/miniconda3/lib/python3.12/site-packages (from jupyter-server<3,>=2.4.0->jupyterlab) (25.1.2)\n",
      "Requirement already satisfied: send2trash>=1.8.2 in /Users/sookim/miniconda3/lib/python3.12/site-packages (from jupyter-server<3,>=2.4.0->jupyterlab) (1.8.2)\n",
      "Requirement already satisfied: terminado>=0.8.3 in /Users/sookim/miniconda3/lib/python3.12/site-packages (from jupyter-server<3,>=2.4.0->jupyterlab) (0.18.1)\n",
      "Requirement already satisfied: websocket-client in /Users/sookim/miniconda3/lib/python3.12/site-packages (from jupyter-server<3,>=2.4.0->jupyterlab) (1.7.0)\n",
      "Requirement already satisfied: platformdirs>=2.5 in /Users/sookim/miniconda3/lib/python3.12/site-packages (from jupyter-core->jupyterlab) (3.10.0)\n",
      "Requirement already satisfied: babel>=2.10 in /Users/sookim/miniconda3/lib/python3.12/site-packages (from jupyterlab-server<3,>=2.19.0->jupyterlab) (2.14.0)\n",
      "Requirement already satisfied: json5>=0.9.0 in /Users/sookim/miniconda3/lib/python3.12/site-packages (from jupyterlab-server<3,>=2.19.0->jupyterlab) (0.9.24)\n",
      "Requirement already satisfied: jsonschema>=4.18.0 in /Users/sookim/miniconda3/lib/python3.12/site-packages (from jupyterlab-server<3,>=2.19.0->jupyterlab) (4.21.1)\n",
      "Requirement already satisfied: requests>=2.31 in /Users/sookim/miniconda3/lib/python3.12/site-packages (from jupyterlab-server<3,>=2.19.0->jupyterlab) (2.31.0)\n",
      "Requirement already satisfied: six>=1.5 in /Users/sookim/miniconda3/lib/python3.12/site-packages (from python-dateutil>=2.8.2->pandas) (1.16.0)\n",
      "Requirement already satisfied: appnope in /Users/sookim/miniconda3/lib/python3.12/site-packages (from ipykernel->jupyterlab) (0.1.4)\n",
      "Requirement already satisfied: comm>=0.1.1 in /Users/sookim/miniconda3/lib/python3.12/site-packages (from ipykernel->jupyterlab) (0.2.2)\n",
      "Requirement already satisfied: debugpy>=1.6.5 in /Users/sookim/miniconda3/lib/python3.12/site-packages (from ipykernel->jupyterlab) (1.8.1)\n",
      "Requirement already satisfied: ipython>=7.23.1 in /Users/sookim/miniconda3/lib/python3.12/site-packages (from ipykernel->jupyterlab) (8.22.2)\n",
      "Requirement already satisfied: matplotlib-inline>=0.1 in /Users/sookim/miniconda3/lib/python3.12/site-packages (from ipykernel->jupyterlab) (0.1.6)\n",
      "Requirement already satisfied: nest-asyncio in /Users/sookim/miniconda3/lib/python3.12/site-packages (from ipykernel->jupyterlab) (1.6.0)\n",
      "Requirement already satisfied: psutil in /Users/sookim/miniconda3/lib/python3.12/site-packages (from ipykernel->jupyterlab) (5.9.8)\n",
      "Requirement already satisfied: decorator in /Users/sookim/miniconda3/lib/python3.12/site-packages (from ipython>=7.23.1->ipykernel->jupyterlab) (5.1.1)\n",
      "Requirement already satisfied: jedi>=0.16 in /Users/sookim/miniconda3/lib/python3.12/site-packages (from ipython>=7.23.1->ipykernel->jupyterlab) (0.19.1)\n",
      "Requirement already satisfied: prompt-toolkit<3.1.0,>=3.0.41 in /Users/sookim/miniconda3/lib/python3.12/site-packages (from ipython>=7.23.1->ipykernel->jupyterlab) (3.0.43)\n",
      "Requirement already satisfied: pygments>=2.4.0 in /Users/sookim/miniconda3/lib/python3.12/site-packages (from ipython>=7.23.1->ipykernel->jupyterlab) (2.17.2)\n",
      "Requirement already satisfied: stack-data in /Users/sookim/miniconda3/lib/python3.12/site-packages (from ipython>=7.23.1->ipykernel->jupyterlab) (0.6.3)\n",
      "Requirement already satisfied: pexpect>4.3 in /Users/sookim/miniconda3/lib/python3.12/site-packages (from ipython>=7.23.1->ipykernel->jupyterlab) (4.9.0)\n",
      "Requirement already satisfied: attrs>=22.2.0 in /Users/sookim/miniconda3/lib/python3.12/site-packages (from jsonschema>=4.18.0->jupyterlab-server<3,>=2.19.0->jupyterlab) (23.2.0)\n",
      "Requirement already satisfied: jsonschema-specifications>=2023.03.6 in /Users/sookim/miniconda3/lib/python3.12/site-packages (from jsonschema>=4.18.0->jupyterlab-server<3,>=2.19.0->jupyterlab) (2023.12.1)\n",
      "Requirement already satisfied: referencing>=0.28.4 in /Users/sookim/miniconda3/lib/python3.12/site-packages (from jsonschema>=4.18.0->jupyterlab-server<3,>=2.19.0->jupyterlab) (0.34.0)\n",
      "Requirement already satisfied: rpds-py>=0.7.1 in /Users/sookim/miniconda3/lib/python3.12/site-packages (from jsonschema>=4.18.0->jupyterlab-server<3,>=2.19.0->jupyterlab) (0.18.0)\n",
      "Requirement already satisfied: python-json-logger>=2.0.4 in /Users/sookim/miniconda3/lib/python3.12/site-packages (from jupyter-events>=0.9.0->jupyter-server<3,>=2.4.0->jupyterlab) (2.0.7)\n",
      "Requirement already satisfied: pyyaml>=5.3 in /Users/sookim/miniconda3/lib/python3.12/site-packages (from jupyter-events>=0.9.0->jupyter-server<3,>=2.4.0->jupyterlab) (6.0.1)\n",
      "Requirement already satisfied: rfc3339-validator in /Users/sookim/miniconda3/lib/python3.12/site-packages (from jupyter-events>=0.9.0->jupyter-server<3,>=2.4.0->jupyterlab) (0.1.4)\n",
      "Requirement already satisfied: rfc3986-validator>=0.1.1 in /Users/sookim/miniconda3/lib/python3.12/site-packages (from jupyter-events>=0.9.0->jupyter-server<3,>=2.4.0->jupyterlab) (0.1.1)\n",
      "Requirement already satisfied: beautifulsoup4 in /Users/sookim/miniconda3/lib/python3.12/site-packages (from nbconvert>=6.4.4->jupyter-server<3,>=2.4.0->jupyterlab) (4.12.3)\n",
      "Requirement already satisfied: bleach!=5.0.0 in /Users/sookim/miniconda3/lib/python3.12/site-packages (from nbconvert>=6.4.4->jupyter-server<3,>=2.4.0->jupyterlab) (6.1.0)\n",
      "Requirement already satisfied: defusedxml in /Users/sookim/miniconda3/lib/python3.12/site-packages (from nbconvert>=6.4.4->jupyter-server<3,>=2.4.0->jupyterlab) (0.7.1)\n",
      "Requirement already satisfied: jupyterlab-pygments in /Users/sookim/miniconda3/lib/python3.12/site-packages (from nbconvert>=6.4.4->jupyter-server<3,>=2.4.0->jupyterlab) (0.3.0)\n",
      "Requirement already satisfied: mistune<4,>=2.0.3 in /Users/sookim/miniconda3/lib/python3.12/site-packages (from nbconvert>=6.4.4->jupyter-server<3,>=2.4.0->jupyterlab) (3.0.2)\n",
      "Requirement already satisfied: nbclient>=0.5.0 in /Users/sookim/miniconda3/lib/python3.12/site-packages (from nbconvert>=6.4.4->jupyter-server<3,>=2.4.0->jupyterlab) (0.10.0)\n",
      "Requirement already satisfied: pandocfilters>=1.4.1 in /Users/sookim/miniconda3/lib/python3.12/site-packages (from nbconvert>=6.4.4->jupyter-server<3,>=2.4.0->jupyterlab) (1.5.1)\n",
      "Requirement already satisfied: tinycss2 in /Users/sookim/miniconda3/lib/python3.12/site-packages (from nbconvert>=6.4.4->jupyter-server<3,>=2.4.0->jupyterlab) (1.2.1)\n",
      "Requirement already satisfied: fastjsonschema in /Users/sookim/miniconda3/lib/python3.12/site-packages (from nbformat>=5.3.0->jupyter-server<3,>=2.4.0->jupyterlab) (2.19.1)\n",
      "Requirement already satisfied: charset-normalizer<4,>=2 in /Users/sookim/miniconda3/lib/python3.12/site-packages (from requests>=2.31->jupyterlab-server<3,>=2.19.0->jupyterlab) (2.0.4)\n",
      "Requirement already satisfied: urllib3<3,>=1.21.1 in /Users/sookim/miniconda3/lib/python3.12/site-packages (from requests>=2.31->jupyterlab-server<3,>=2.19.0->jupyterlab) (2.1.0)\n",
      "Requirement already satisfied: ptyprocess in /Users/sookim/miniconda3/lib/python3.12/site-packages (from terminado>=0.8.3->jupyter-server<3,>=2.4.0->jupyterlab) (0.7.0)\n",
      "Requirement already satisfied: argon2-cffi-bindings in /Users/sookim/miniconda3/lib/python3.12/site-packages (from argon2-cffi->jupyter-server<3,>=2.4.0->jupyterlab) (21.2.0)\n",
      "Requirement already satisfied: webencodings in /Users/sookim/miniconda3/lib/python3.12/site-packages (from bleach!=5.0.0->nbconvert>=6.4.4->jupyter-server<3,>=2.4.0->jupyterlab) (0.5.1)\n",
      "Requirement already satisfied: parso<0.9.0,>=0.8.3 in /Users/sookim/miniconda3/lib/python3.12/site-packages (from jedi>=0.16->ipython>=7.23.1->ipykernel->jupyterlab) (0.8.3)\n",
      "Requirement already satisfied: fqdn in /Users/sookim/miniconda3/lib/python3.12/site-packages (from jsonschema[format-nongpl]>=4.18.0->jupyter-events>=0.9.0->jupyter-server<3,>=2.4.0->jupyterlab) (1.5.1)\n",
      "Requirement already satisfied: isoduration in /Users/sookim/miniconda3/lib/python3.12/site-packages (from jsonschema[format-nongpl]>=4.18.0->jupyter-events>=0.9.0->jupyter-server<3,>=2.4.0->jupyterlab) (20.11.0)\n",
      "Requirement already satisfied: jsonpointer>1.13 in /Users/sookim/miniconda3/lib/python3.12/site-packages (from jsonschema[format-nongpl]>=4.18.0->jupyter-events>=0.9.0->jupyter-server<3,>=2.4.0->jupyterlab) (2.1)\n",
      "Requirement already satisfied: uri-template in /Users/sookim/miniconda3/lib/python3.12/site-packages (from jsonschema[format-nongpl]>=4.18.0->jupyter-events>=0.9.0->jupyter-server<3,>=2.4.0->jupyterlab) (1.3.0)\n",
      "Requirement already satisfied: webcolors>=1.11 in /Users/sookim/miniconda3/lib/python3.12/site-packages (from jsonschema[format-nongpl]>=4.18.0->jupyter-events>=0.9.0->jupyter-server<3,>=2.4.0->jupyterlab) (1.13)\n",
      "Requirement already satisfied: wcwidth in /Users/sookim/miniconda3/lib/python3.12/site-packages (from prompt-toolkit<3.1.0,>=3.0.41->ipython>=7.23.1->ipykernel->jupyterlab) (0.2.13)\n",
      "Requirement already satisfied: cffi>=1.0.1 in /Users/sookim/miniconda3/lib/python3.12/site-packages (from argon2-cffi-bindings->argon2-cffi->jupyter-server<3,>=2.4.0->jupyterlab) (1.16.0)\n",
      "Requirement already satisfied: soupsieve>1.2 in /Users/sookim/miniconda3/lib/python3.12/site-packages (from beautifulsoup4->nbconvert>=6.4.4->jupyter-server<3,>=2.4.0->jupyterlab) (2.5)\n",
      "Requirement already satisfied: executing>=1.2.0 in /Users/sookim/miniconda3/lib/python3.12/site-packages (from stack-data->ipython>=7.23.1->ipykernel->jupyterlab) (2.0.1)\n",
      "Requirement already satisfied: asttokens>=2.1.0 in /Users/sookim/miniconda3/lib/python3.12/site-packages (from stack-data->ipython>=7.23.1->ipykernel->jupyterlab) (2.4.1)\n",
      "Requirement already satisfied: pure-eval in /Users/sookim/miniconda3/lib/python3.12/site-packages (from stack-data->ipython>=7.23.1->ipykernel->jupyterlab) (0.2.2)\n",
      "Requirement already satisfied: pycparser in /Users/sookim/miniconda3/lib/python3.12/site-packages (from cffi>=1.0.1->argon2-cffi-bindings->argon2-cffi->jupyter-server<3,>=2.4.0->jupyterlab) (2.21)\n",
      "Requirement already satisfied: arrow>=0.15.0 in /Users/sookim/miniconda3/lib/python3.12/site-packages (from isoduration->jsonschema[format-nongpl]>=4.18.0->jupyter-events>=0.9.0->jupyter-server<3,>=2.4.0->jupyterlab) (1.3.0)\n",
      "Requirement already satisfied: types-python-dateutil>=2.8.10 in /Users/sookim/miniconda3/lib/python3.12/site-packages (from arrow>=0.15.0->isoduration->jsonschema[format-nongpl]>=4.18.0->jupyter-events>=0.9.0->jupyter-server<3,>=2.4.0->jupyterlab) (2.9.0.20240316)\n"
     ]
    }
   ],
   "source": [
    "!pip install torch torchvision \n",
    "!pip install opencv-python scipy matplotlib \n",
    "!pip install scikit-image scikit-learn pandas jupyterlab numpy"
   ]
  },
  {
   "cell_type": "code",
   "execution_count": 3,
   "id": "0b191db2-cd98-4ca0-aea2-6bf9961fcb63",
   "metadata": {},
   "outputs": [],
   "source": [
    "import torch\n",
    "import numpy as np\n",
    "import torch.nn as nn\n",
    "import torch.nn.functional as F\n",
    "import torch.optim as optim\n",
    "import sys\n",
    "from torch.optim import Adam\n",
    "import math"
   ]
  },
  {
   "cell_type": "code",
   "execution_count": 70,
   "id": "63d3ba09-4648-4491-964a-c7601482c917",
   "metadata": {},
   "outputs": [],
   "source": [
    "class Block(nn.Module):\n",
    "    def __init__(self, in_ch, out_ch, up=False):\n",
    "        super().__init__()\n",
    "        if up:\n",
    "            self.conv1 = nn.Conv2d(2*in_ch, out_ch, 3, padding='same')\n",
    "            self.transform = nn.ConvTranspose2d(out_ch, out_ch, 4, 2, 1) \n",
    "            #nn.ConvTranspose2d: https://pytorch.org/docs/stable/generated/torch.nn.ConvTranspose2d.html\n",
    "            # kernel = 4 stride =2 padding =1 \n",
    "            #(W−F+2P)/S+1 = (28 - 4 + 2)/2 +1 = 14 \n",
    "            #(W−F+2P)/S+1 = (14 - 4 + 2)/2 +1 = 7 .. \n",
    "        else:\n",
    "            self.conv1 = nn.Conv2d(in_ch, out_ch, 3, padding='same')\n",
    "            self.transform = nn.Conv2d(out_ch, out_ch, 4, 2, 1)\n",
    "        self.conv2 = nn.Conv2d(out_ch, out_ch, 1, padding='same')\n",
    "        self.bnorm1 = nn.BatchNorm2d(out_ch)\n",
    "        self.bnorm2 = nn.BatchNorm2d(out_ch)\n",
    "        self.relu  = nn.ReLU()\n",
    "\n",
    "    def forward(self, x ):\n",
    "        # First Conv\n",
    "        h = self.bnorm1(self.relu(self.conv1(x)))\n",
    "        # Second Conv\n",
    "        h = self.bnorm2(self.relu(self.conv2(h)))\n",
    "        # Down or Upsample\n",
    "        return self.transform(h)"
   ]
  },
  {
   "cell_type": "code",
   "execution_count": 24,
   "id": "e3feb3a0-fb6b-4df1-ad38-d9716868b20e",
   "metadata": {},
   "outputs": [
    {
     "data": {
      "text/plain": [
       "Block(\n",
       "  (conv1): Conv2d(32, 32, kernel_size=(3, 3), stride=(1, 1), padding=same)\n",
       "  (transform): Conv2d(32, 32, kernel_size=(4, 4), stride=(2, 2), padding=(1, 1))\n",
       "  (conv2): Conv2d(32, 32, kernel_size=(1, 1), stride=(1, 1), padding=same)\n",
       "  (bnorm1): BatchNorm2d(32, eps=1e-05, momentum=0.1, affine=True, track_running_stats=True)\n",
       "  (bnorm2): BatchNorm2d(32, eps=1e-05, momentum=0.1, affine=True, track_running_stats=True)\n",
       "  (relu): ReLU()\n",
       ")"
      ]
     },
     "execution_count": 24,
     "metadata": {},
     "output_type": "execute_result"
    }
   ],
   "source": [
    "Block(32,32)"
   ]
  },
  {
   "cell_type": "code",
   "execution_count": 25,
   "id": "7cb0746a-f01b-4ee2-83ea-16b034d436e2",
   "metadata": {},
   "outputs": [
    {
     "data": {
      "text/plain": [
       "Block(\n",
       "  (conv1): Conv2d(64, 32, kernel_size=(3, 3), stride=(1, 1), padding=same)\n",
       "  (transform): ConvTranspose2d(32, 32, kernel_size=(4, 4), stride=(2, 2), padding=(1, 1))\n",
       "  (conv2): Conv2d(32, 32, kernel_size=(1, 1), stride=(1, 1), padding=same)\n",
       "  (bnorm1): BatchNorm2d(32, eps=1e-05, momentum=0.1, affine=True, track_running_stats=True)\n",
       "  (bnorm2): BatchNorm2d(32, eps=1e-05, momentum=0.1, affine=True, track_running_stats=True)\n",
       "  (relu): ReLU()\n",
       ")"
      ]
     },
     "execution_count": 25,
     "metadata": {},
     "output_type": "execute_result"
    }
   ],
   "source": [
    "Block(32,32, up=True)"
   ]
  },
  {
   "cell_type": "code",
   "execution_count": 27,
   "id": "e0a82f0a-c827-4646-aede-90f49e499472",
   "metadata": {},
   "outputs": [],
   "source": [
    "down_channels = (32,32,32)\n",
    "up_channels = (32,32,32)\n",
    "downs = nn.ModuleList([Block(down_channels[i], down_channels[i+1]) for i in range(len(down_channels)-1)])\n",
    "ups   = nn.ModuleList([Block(up_channels[i], up_channels[i+1], up=True) for i in range(len(up_channels)-1)])"
   ]
  },
  {
   "cell_type": "code",
   "execution_count": 28,
   "id": "b04aad10-a4cf-41e4-8ee1-01b9c4aed62a",
   "metadata": {},
   "outputs": [
    {
     "data": {
      "text/plain": [
       "ModuleList(\n",
       "  (0-1): 2 x Block(\n",
       "    (conv1): Conv2d(32, 32, kernel_size=(3, 3), stride=(1, 1), padding=same)\n",
       "    (transform): Conv2d(32, 32, kernel_size=(4, 4), stride=(2, 2), padding=(1, 1))\n",
       "    (conv2): Conv2d(32, 32, kernel_size=(1, 1), stride=(1, 1), padding=same)\n",
       "    (bnorm1): BatchNorm2d(32, eps=1e-05, momentum=0.1, affine=True, track_running_stats=True)\n",
       "    (bnorm2): BatchNorm2d(32, eps=1e-05, momentum=0.1, affine=True, track_running_stats=True)\n",
       "    (relu): ReLU()\n",
       "  )\n",
       ")"
      ]
     },
     "execution_count": 28,
     "metadata": {},
     "output_type": "execute_result"
    }
   ],
   "source": [
    "downs"
   ]
  },
  {
   "cell_type": "code",
   "execution_count": 29,
   "id": "db56aa37-92c9-43bb-a2ae-dcdef59fb95c",
   "metadata": {},
   "outputs": [
    {
     "data": {
      "text/plain": [
       "ModuleList(\n",
       "  (0-1): 2 x Block(\n",
       "    (conv1): Conv2d(64, 32, kernel_size=(3, 3), stride=(1, 1), padding=same)\n",
       "    (transform): ConvTranspose2d(32, 32, kernel_size=(4, 4), stride=(2, 2), padding=(1, 1))\n",
       "    (conv2): Conv2d(32, 32, kernel_size=(1, 1), stride=(1, 1), padding=same)\n",
       "    (bnorm1): BatchNorm2d(32, eps=1e-05, momentum=0.1, affine=True, track_running_stats=True)\n",
       "    (bnorm2): BatchNorm2d(32, eps=1e-05, momentum=0.1, affine=True, track_running_stats=True)\n",
       "    (relu): ReLU()\n",
       "  )\n",
       ")"
      ]
     },
     "execution_count": 29,
     "metadata": {},
     "output_type": "execute_result"
    }
   ],
   "source": [
    "ups"
   ]
  },
  {
   "cell_type": "code",
   "execution_count": 71,
   "id": "35f25c52-a9c4-4bad-b365-c2152a67848f",
   "metadata": {},
   "outputs": [],
   "source": [
    "class SimpleUnet(nn.Module):\n",
    "    \"\"\"\n",
    "    A simplified variant of the Unet architecture.\n",
    "    \"\"\"\n",
    "    def __init__(self):\n",
    "        super().__init__()\n",
    "        image_channels = 1\n",
    "        down_channels = (32,32,32)\n",
    "        up_channels = (32,32,32)\n",
    "        out_dim = 1\n",
    "        # Time embedding\n",
    "        self.time_mlp = nn.Sequential(\n",
    "                nn.Linear(time_emb_dim, time_emb_dim),\n",
    "                nn.ReLU()\n",
    "            )\n",
    "\n",
    "        # Initial projection\n",
    "        self.conv0 = nn.Conv2d(image_channels, down_channels[0], image_channels, padding='same')\n",
    "        # Downsample\n",
    "        self.downs = nn.ModuleList([Block(down_channels[i], down_channels[i+1]) \\\n",
    "                    for i in range(len(down_channels)-1)])\n",
    "        # Upsample\n",
    "        self.ups = nn.ModuleList([Block(up_channels[i], up_channels[i+1], up=True) \\\n",
    "                    for i in range(len(up_channels)-1)])\n",
    "        self.output = nn.Conv2d(up_channels[-1], out_dim, 1)\n",
    "\n",
    "    def forward(self, x):\n",
    "\n",
    "        # Initial conv\n",
    "        #print(\"x\", x.shape)\n",
    "        x = self.conv0(x)\n",
    "        # Unet\n",
    "        residual_inputs = []\n",
    "        for down in self.downs:\n",
    "            x = down(x)\n",
    "            #print(\"x\",x.shape)\n",
    "            residual_inputs.append(x)\n",
    "        #print(\"residual_inputs\", len(residual_inputs), [ residual_inputs[i].shape for i in range(len(residual_inputs))])\n",
    "        for up in self.ups:\n",
    "            residual_x = residual_inputs.pop()\n",
    "            # Add residual x as additional channels\n",
    "            #print(\"x_up 1\", x.shape, \"residual_pop\", residual_x.shape)\n",
    "            x = torch.cat((x, residual_x), dim=1)\n",
    "            #print(\"x_up 2\", x.shape)\n",
    "            x = up(x)\n",
    "            #print(\"x_up 3 after deconv\", x.shape)\n",
    "        return self.output(x)"
   ]
  },
  {
   "cell_type": "code",
   "execution_count": 72,
   "id": "dc5cb8da-eca5-430c-86be-6d25566c1692",
   "metadata": {},
   "outputs": [
    {
     "name": "stdout",
     "output_type": "stream",
     "text": [
      "Num params:  126977\n",
      "SimpleUnet(\n",
      "  (time_mlp): Sequential(\n",
      "    (0): Linear(in_features=32, out_features=32, bias=True)\n",
      "    (1): ReLU()\n",
      "  )\n",
      "  (conv0): Conv2d(1, 32, kernel_size=(1, 1), stride=(1, 1), padding=same)\n",
      "  (downs): ModuleList(\n",
      "    (0-1): 2 x Block(\n",
      "      (conv1): Conv2d(32, 32, kernel_size=(3, 3), stride=(1, 1), padding=same)\n",
      "      (transform): Conv2d(32, 32, kernel_size=(4, 4), stride=(2, 2), padding=(1, 1))\n",
      "      (conv2): Conv2d(32, 32, kernel_size=(1, 1), stride=(1, 1), padding=same)\n",
      "      (bnorm1): BatchNorm2d(32, eps=1e-05, momentum=0.1, affine=True, track_running_stats=True)\n",
      "      (bnorm2): BatchNorm2d(32, eps=1e-05, momentum=0.1, affine=True, track_running_stats=True)\n",
      "      (relu): ReLU()\n",
      "    )\n",
      "  )\n",
      "  (ups): ModuleList(\n",
      "    (0-1): 2 x Block(\n",
      "      (conv1): Conv2d(64, 32, kernel_size=(3, 3), stride=(1, 1), padding=same)\n",
      "      (transform): ConvTranspose2d(32, 32, kernel_size=(4, 4), stride=(2, 2), padding=(1, 1))\n",
      "      (conv2): Conv2d(32, 32, kernel_size=(1, 1), stride=(1, 1), padding=same)\n",
      "      (bnorm1): BatchNorm2d(32, eps=1e-05, momentum=0.1, affine=True, track_running_stats=True)\n",
      "      (bnorm2): BatchNorm2d(32, eps=1e-05, momentum=0.1, affine=True, track_running_stats=True)\n",
      "      (relu): ReLU()\n",
      "    )\n",
      "  )\n",
      "  (output): Conv2d(32, 1, kernel_size=(1, 1), stride=(1, 1))\n",
      ")\n"
     ]
    }
   ],
   "source": [
    "model = SimpleUnet()\n",
    "print(\"Num params: \", sum(p.numel() for p in model.parameters()))\n",
    "print(model)"
   ]
  },
  {
   "cell_type": "code",
   "execution_count": 73,
   "id": "628db6ca-9097-4019-9fdf-588537b6e7af",
   "metadata": {},
   "outputs": [
    {
     "name": "stdout",
     "output_type": "stream",
     "text": [
      "torch.Size([10, 1, 28, 28])\n"
     ]
    }
   ],
   "source": [
    "x=torch.rand([10,1,28,28])\n",
    "print(x.shape)"
   ]
  },
  {
   "cell_type": "code",
   "execution_count": 74,
   "id": "3b20e1fe-944f-492c-be49-bc25d9d709bc",
   "metadata": {},
   "outputs": [
    {
     "name": "stdout",
     "output_type": "stream",
     "text": [
      "torch.Size([10, 1, 28, 28])\n"
     ]
    }
   ],
   "source": [
    "y = model(x)\n",
    "print(y.shape)"
   ]
  },
  {
   "cell_type": "code",
   "execution_count": null,
   "id": "25077cdb-6aa7-4a16-83ee-35263c152404",
   "metadata": {},
   "outputs": [],
   "source": []
  }
 ],
 "metadata": {
  "kernelspec": {
   "display_name": "Python 3 (ipykernel)",
   "language": "python",
   "name": "python3"
  },
  "language_info": {
   "codemirror_mode": {
    "name": "ipython",
    "version": 3
   },
   "file_extension": ".py",
   "mimetype": "text/x-python",
   "name": "python",
   "nbconvert_exporter": "python",
   "pygments_lexer": "ipython3",
   "version": "3.12.1"
  }
 },
 "nbformat": 4,
 "nbformat_minor": 5
}
