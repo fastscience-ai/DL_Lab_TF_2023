{
 "cells": [
  {
   "cell_type": "markdown",
   "id": "2be6a3b4-3222-4bb0-b7c0-fd2564438519",
   "metadata": {},
   "source": [
    "Implementation of the Transformer architecture\n",
    "Here we propose a TensorFlow implementation from scratch of the Transformer as described in the original article [Vaswani et. al. Attention is all you need. Advances in Neural Information Processing Systems, 2017].\n",
    "\n",
    "We give a detailed report on this article and define all the notations in an attached notebook. See https://www.kaggle.com/samuelnordmann/transformers-report-on-attention-is-all-you-need/\n",
    "\n",
    "The details of the implementation follow the same lines as the one of Andrew Ng in his Specialization course on Deep Learning."
   ]
  },
  {
   "cell_type": "markdown",
   "id": "67f8fd63-ea68-43a6-b3cb-9c740d31776e",
   "metadata": {},
   "source": [
    "### Packages\n"
   ]
  },
  {
   "cell_type": "code",
   "execution_count": 4,
   "id": "5459072b-e608-4fd4-84d2-4bdd147cd8dd",
   "metadata": {},
   "outputs": [
    {
     "name": "stdout",
     "output_type": "stream",
     "text": [
      "Requirement already satisfied: tensorflow==2.16.1 in /Users/sookim/miniconda3/lib/python3.12/site-packages (2.16.1)\n",
      "Requirement already satisfied: absl-py>=1.0.0 in /Users/sookim/miniconda3/lib/python3.12/site-packages (from tensorflow==2.16.1) (1.4.0)\n",
      "Requirement already satisfied: astunparse>=1.6.0 in /Users/sookim/miniconda3/lib/python3.12/site-packages (from tensorflow==2.16.1) (1.6.3)\n",
      "Requirement already satisfied: flatbuffers>=23.5.26 in /Users/sookim/miniconda3/lib/python3.12/site-packages (from tensorflow==2.16.1) (24.3.25)\n",
      "Requirement already satisfied: gast!=0.5.0,!=0.5.1,!=0.5.2,>=0.2.1 in /Users/sookim/miniconda3/lib/python3.12/site-packages (from tensorflow==2.16.1) (0.5.4)\n",
      "Requirement already satisfied: google-pasta>=0.1.1 in /Users/sookim/miniconda3/lib/python3.12/site-packages (from tensorflow==2.16.1) (0.2.0)\n",
      "Requirement already satisfied: h5py>=3.10.0 in /Users/sookim/miniconda3/lib/python3.12/site-packages (from tensorflow==2.16.1) (3.10.0)\n",
      "Requirement already satisfied: libclang>=13.0.0 in /Users/sookim/miniconda3/lib/python3.12/site-packages (from tensorflow==2.16.1) (18.1.1)\n",
      "Requirement already satisfied: ml-dtypes~=0.3.1 in /Users/sookim/miniconda3/lib/python3.12/site-packages (from tensorflow==2.16.1) (0.3.2)\n",
      "Requirement already satisfied: opt-einsum>=2.3.2 in /Users/sookim/miniconda3/lib/python3.12/site-packages (from tensorflow==2.16.1) (3.3.0)\n",
      "Requirement already satisfied: packaging in /Users/sookim/miniconda3/lib/python3.12/site-packages (from tensorflow==2.16.1) (23.1)\n",
      "Requirement already satisfied: protobuf!=4.21.0,!=4.21.1,!=4.21.2,!=4.21.3,!=4.21.4,!=4.21.5,<5.0.0dev,>=3.20.3 in /Users/sookim/miniconda3/lib/python3.12/site-packages (from tensorflow==2.16.1) (3.20.3)\n",
      "Requirement already satisfied: requests<3,>=2.21.0 in /Users/sookim/miniconda3/lib/python3.12/site-packages (from tensorflow==2.16.1) (2.31.0)\n",
      "Requirement already satisfied: setuptools in /Users/sookim/miniconda3/lib/python3.12/site-packages (from tensorflow==2.16.1) (68.2.2)\n",
      "Requirement already satisfied: six>=1.12.0 in /Users/sookim/miniconda3/lib/python3.12/site-packages (from tensorflow==2.16.1) (1.16.0)\n",
      "Requirement already satisfied: termcolor>=1.1.0 in /Users/sookim/miniconda3/lib/python3.12/site-packages (from tensorflow==2.16.1) (2.4.0)\n",
      "Requirement already satisfied: typing-extensions>=3.6.6 in /Users/sookim/miniconda3/lib/python3.12/site-packages (from tensorflow==2.16.1) (4.10.0)\n",
      "Requirement already satisfied: wrapt>=1.11.0 in /Users/sookim/miniconda3/lib/python3.12/site-packages (from tensorflow==2.16.1) (1.16.0)\n",
      "Requirement already satisfied: grpcio<2.0,>=1.24.3 in /Users/sookim/miniconda3/lib/python3.12/site-packages (from tensorflow==2.16.1) (1.62.1)\n",
      "Requirement already satisfied: tensorboard<2.17,>=2.16 in /Users/sookim/miniconda3/lib/python3.12/site-packages (from tensorflow==2.16.1) (2.16.2)\n",
      "Requirement already satisfied: keras>=3.0.0 in /Users/sookim/miniconda3/lib/python3.12/site-packages (from tensorflow==2.16.1) (3.1.1)\n",
      "Requirement already satisfied: numpy<2.0.0,>=1.26.0 in /Users/sookim/miniconda3/lib/python3.12/site-packages (from tensorflow==2.16.1) (1.26.4)\n",
      "Requirement already satisfied: wheel<1.0,>=0.23.0 in /Users/sookim/miniconda3/lib/python3.12/site-packages (from astunparse>=1.6.0->tensorflow==2.16.1) (0.41.2)\n",
      "Requirement already satisfied: rich in /Users/sookim/miniconda3/lib/python3.12/site-packages (from keras>=3.0.0->tensorflow==2.16.1) (13.7.1)\n",
      "Requirement already satisfied: namex in /Users/sookim/miniconda3/lib/python3.12/site-packages (from keras>=3.0.0->tensorflow==2.16.1) (0.0.7)\n",
      "Requirement already satisfied: optree in /Users/sookim/miniconda3/lib/python3.12/site-packages (from keras>=3.0.0->tensorflow==2.16.1) (0.11.0)\n",
      "Requirement already satisfied: charset-normalizer<4,>=2 in /Users/sookim/miniconda3/lib/python3.12/site-packages (from requests<3,>=2.21.0->tensorflow==2.16.1) (2.0.4)\n",
      "Requirement already satisfied: idna<4,>=2.5 in /Users/sookim/miniconda3/lib/python3.12/site-packages (from requests<3,>=2.21.0->tensorflow==2.16.1) (3.4)\n",
      "Requirement already satisfied: urllib3<3,>=1.21.1 in /Users/sookim/miniconda3/lib/python3.12/site-packages (from requests<3,>=2.21.0->tensorflow==2.16.1) (2.1.0)\n",
      "Requirement already satisfied: certifi>=2017.4.17 in /Users/sookim/miniconda3/lib/python3.12/site-packages (from requests<3,>=2.21.0->tensorflow==2.16.1) (2024.2.2)\n",
      "Requirement already satisfied: markdown>=2.6.8 in /Users/sookim/miniconda3/lib/python3.12/site-packages (from tensorboard<2.17,>=2.16->tensorflow==2.16.1) (3.6)\n",
      "Requirement already satisfied: tensorboard-data-server<0.8.0,>=0.7.0 in /Users/sookim/miniconda3/lib/python3.12/site-packages (from tensorboard<2.17,>=2.16->tensorflow==2.16.1) (0.7.2)\n",
      "Requirement already satisfied: werkzeug>=1.0.1 in /Users/sookim/miniconda3/lib/python3.12/site-packages (from tensorboard<2.17,>=2.16->tensorflow==2.16.1) (3.0.1)\n",
      "Requirement already satisfied: MarkupSafe>=2.1.1 in /Users/sookim/miniconda3/lib/python3.12/site-packages (from werkzeug>=1.0.1->tensorboard<2.17,>=2.16->tensorflow==2.16.1) (2.1.5)\n",
      "Requirement already satisfied: markdown-it-py>=2.2.0 in /Users/sookim/miniconda3/lib/python3.12/site-packages (from rich->keras>=3.0.0->tensorflow==2.16.1) (3.0.0)\n",
      "Requirement already satisfied: pygments<3.0.0,>=2.13.0 in /Users/sookim/miniconda3/lib/python3.12/site-packages (from rich->keras>=3.0.0->tensorflow==2.16.1) (2.17.2)\n",
      "Requirement already satisfied: mdurl~=0.1 in /Users/sookim/miniconda3/lib/python3.12/site-packages (from markdown-it-py>=2.2.0->rich->keras>=3.0.0->tensorflow==2.16.1) (0.1.2)\n",
      "Collecting pandas\n",
      "  Downloading pandas-2.2.1-cp312-cp312-macosx_11_0_arm64.whl.metadata (19 kB)\n",
      "Requirement already satisfied: matplotlib in /Users/sookim/miniconda3/lib/python3.12/site-packages (3.8.3)\n",
      "Requirement already satisfied: numpy in /Users/sookim/miniconda3/lib/python3.12/site-packages (1.26.4)\n",
      "Requirement already satisfied: python-dateutil>=2.8.2 in /Users/sookim/miniconda3/lib/python3.12/site-packages (from pandas) (2.9.0.post0)\n",
      "Collecting pytz>=2020.1 (from pandas)\n",
      "  Using cached pytz-2024.1-py2.py3-none-any.whl.metadata (22 kB)\n",
      "Collecting tzdata>=2022.7 (from pandas)\n",
      "  Using cached tzdata-2024.1-py2.py3-none-any.whl.metadata (1.4 kB)\n",
      "Requirement already satisfied: contourpy>=1.0.1 in /Users/sookim/miniconda3/lib/python3.12/site-packages (from matplotlib) (1.2.0)\n",
      "Requirement already satisfied: cycler>=0.10 in /Users/sookim/miniconda3/lib/python3.12/site-packages (from matplotlib) (0.12.1)\n",
      "Requirement already satisfied: fonttools>=4.22.0 in /Users/sookim/miniconda3/lib/python3.12/site-packages (from matplotlib) (4.50.0)\n",
      "Requirement already satisfied: kiwisolver>=1.3.1 in /Users/sookim/miniconda3/lib/python3.12/site-packages (from matplotlib) (1.4.5)\n",
      "Requirement already satisfied: packaging>=20.0 in /Users/sookim/miniconda3/lib/python3.12/site-packages (from matplotlib) (23.1)\n",
      "Requirement already satisfied: pillow>=8 in /Users/sookim/miniconda3/lib/python3.12/site-packages (from matplotlib) (10.2.0)\n",
      "Requirement already satisfied: pyparsing>=2.3.1 in /Users/sookim/miniconda3/lib/python3.12/site-packages (from matplotlib) (3.1.2)\n",
      "Requirement already satisfied: six>=1.5 in /Users/sookim/miniconda3/lib/python3.12/site-packages (from python-dateutil>=2.8.2->pandas) (1.16.0)\n",
      "Downloading pandas-2.2.1-cp312-cp312-macosx_11_0_arm64.whl (11.3 MB)\n",
      "\u001b[2K   \u001b[90m━━━━━━━━━━━━━━━━━━━━━━━━━━━━━━━━━━━━━━━━\u001b[0m \u001b[32m11.3/11.3 MB\u001b[0m \u001b[31m10.8 MB/s\u001b[0m eta \u001b[36m0:00:00\u001b[0m00:01\u001b[0m00:01\u001b[0m\n",
      "\u001b[?25hUsing cached pytz-2024.1-py2.py3-none-any.whl (505 kB)\n",
      "Using cached tzdata-2024.1-py2.py3-none-any.whl (345 kB)\n",
      "Installing collected packages: pytz, tzdata, pandas\n",
      "Successfully installed pandas-2.2.1 pytz-2024.1 tzdata-2024.1\n"
     ]
    }
   ],
   "source": [
    "!pip install tensorflow==2.16.1\n",
    "!pip install pandas matplotlib numpy"
   ]
  },
  {
   "cell_type": "code",
   "execution_count": 23,
   "id": "351a1c80-14d7-45a2-83e2-ded2805c298f",
   "metadata": {},
   "outputs": [
    {
     "name": "stdout",
     "output_type": "stream",
     "text": [
      "2.16.1\n"
     ]
    }
   ],
   "source": [
    "import tensorflow as tf\n",
    "import pandas as pd\n",
    "import time\n",
    "import numpy as np\n",
    "\n",
    "import matplotlib.pyplot as plt\n",
    "\n",
    "from tensorflow.keras.layers import Embedding, Dense, Input, Dropout, LayerNormalization, Conv1D, Reshape\n",
    "\n",
    "print(tf.__version__)"
   ]
  },
  {
   "cell_type": "markdown",
   "id": "58489c9d-a2a3-4f84-895b-ae9b4def4c0e",
   "metadata": {},
   "source": [
    "## Sub layers\n",
    "### Attention\n",
    "### Single head attention"
   ]
  },
  {
   "cell_type": "code",
   "execution_count": 24,
   "id": "0eac863f-64ed-46fc-851b-159afa139096",
   "metadata": {},
   "outputs": [],
   "source": [
    "def scaled_dot_product_attention(Q, K, V, mask=None):\n",
    "    \"\"\"\n",
    "    Calculate the attention weights.\n",
    "\n",
    "    Arguments:\n",
    "        Q -- query shape == (..., Tq, dk)\n",
    "        K -- key shape == (..., Tv, dk)\n",
    "        V -- value shape == (..., Tv, dv)\n",
    "        mask: Float tensor with shape broadcastable to (..., Tq, Tv). Defaults to None.\n",
    "\n",
    "    Returns:\n",
    "        output -- (attention,attention_weights)\n",
    "    \"\"\"\n",
    "    \n",
    "    #Compute the scaled dot-product Q•K\n",
    "    matmul_QK = tf.matmul(Q,K,transpose_b=True)  # dot-product of shape (..., Tq, Tv)\n",
    "\n",
    "    dk = K.shape[-1]\n",
    "    scaled_attention_logits = matmul_QK/np.sqrt(dk) # scaled dot-product of shape (..., Tq, Tv)\n",
    "\n",
    "    # Add the mask to the scaled dot-product\n",
    "    if mask is not None: \n",
    "        scaled_attention_logits += (1. - mask) *(-1e9)\n",
    "\n",
    "    # Compute the Softmax\n",
    "    attention_weights = tf.nn.softmax(scaled_attention_logits, axis=-1)  # weights of shape (..., Tq, Tv)\n",
    "\n",
    "    #Multiply with V\n",
    "    output = tf.matmul(attention_weights,V)  # Attention representation of shape (..., Tq, dv)\n",
    "    \n",
    "    return output, attention_weights"
   ]
  },
  {
   "cell_type": "code",
   "execution_count": 25,
   "id": "2b6eb494-f0f1-4b6d-8b12-a7c53a8bbac2",
   "metadata": {},
   "outputs": [
    {
     "name": "stdout",
     "output_type": "stream",
     "text": [
      "(16, 9, 128)\n"
     ]
    }
   ],
   "source": [
    "## DEBUG\n",
    "\n",
    "batch_size,Tq, Tv, dk, dv= 16,9,9,64,128 # we need Tq=Tv\n",
    "Q= tf.random.uniform((batch_size,Tq, dk))\n",
    "K= tf.random.uniform((batch_size,Tv, dk))\n",
    "V= tf.random.uniform((batch_size,Tv, dv))\n",
    "\n",
    "A,_=scaled_dot_product_attention(Q, K, V)\n",
    "print(A.shape)"
   ]
  },
  {
   "cell_type": "code",
   "execution_count": 26,
   "id": "9cf986d1-83fb-4184-8ee8-765a3a668113",
   "metadata": {},
   "outputs": [],
   "source": [
    "class Multihead_Attention(tf.keras.layers.Layer):\n",
    "    def __init__(self, H, d_model, dk, dv):\n",
    "        \n",
    "        \"\"\"\n",
    "        Arguments:\n",
    "        H -- number of heads (=8 in the paper)\n",
    "        d_models -- embedding dimension (=512 in the paper)\n",
    "        dk -- depth of Q and K (=64 in the paper)\n",
    "        dv -- depth of V (=64 in the paper)\n",
    "        \"\"\"\n",
    "    \n",
    "        super(Multihead_Attention, self).__init__()\n",
    "        \n",
    "        initializer = tf.keras.initializers.GlorotUniform()\n",
    "        self.WQ = tf.Variable(initializer(shape=(H, d_model, dk)), trainable=True)\n",
    "        self.WK = tf.Variable(initializer(shape=(H, d_model, dk)), trainable=True)\n",
    "        self.WV = tf.Variable(initializer(shape=(H, d_model, dv)), trainable=True)\n",
    "        self.WO = tf.Variable(initializer(shape=(dv*H,d_model)), trainable=True)\n",
    "\n",
    "    \n",
    "    def call(self, Q, K, V, mask=None):\n",
    "        \"\"\"\n",
    "        Calculate the attention weights.\n",
    "\n",
    "        Arguments:\n",
    "            Q -- query shape == (..., Tq, d_model)\n",
    "            K -- key shape == (..., Tv, d_model)\n",
    "            V -- value shape == (..., Tv, d_model)\n",
    "            mask: Float tensor with shape broadcastable to (..., Tq, Tv). Defaults to None.\n",
    "\n",
    "        Returns:\n",
    "            output -- Multihead attention A of shape (batch_size, Tq, d_model)\n",
    "        \"\"\"\n",
    "        #Projecting Q,K,V to Qh, Kh, Vh. The H projection are stacked on the penultiem axis\n",
    "        Qh= tf.experimental.numpy.dot(Q, self.WQ) #of shape (batch_size, Tq, H, dk)\n",
    "        Kh= tf.experimental.numpy.dot(K, self.WK) #of shape (batch_size, Tv, H, dk)\n",
    "        Vh= tf.experimental.numpy.dot(V, self.WV) #of shape (batch_size, Tv, H, dv)\n",
    "        \n",
    "        \n",
    "        # Computing the dot-product attention\n",
    "        Ah,_=scaled_dot_product_attention(Qh, Kh, Vh, mask=mask) #of shape (batch_size, Tq, H, dv)\n",
    "        \n",
    "        #Flattening the H and dv axis and projecting back to d_model\n",
    "       \n",
    "        s=Ah.shape\n",
    "        A = tf.reshape(Ah,(s[0],s[1],s[2]*s[3])) #of shape (batch_size, Tq, H*dv)\n",
    "        print(Ah.shape, self.WO.shape)\n",
    "        A= tf.experimental.numpy.dot(A, self.WO) #of shape (batch_size, Tq, d_model)\n",
    "        \n",
    "        return A\n"
   ]
  },
  {
   "cell_type": "code",
   "execution_count": 27,
   "id": "c566e188-a16d-4806-95ed-0ac78b301150",
   "metadata": {},
   "outputs": [
    {
     "name": "stdout",
     "output_type": "stream",
     "text": [
      "(16, 9, 8, 32) (256, 512)\n",
      "(16, 9, 512)\n"
     ]
    }
   ],
   "source": [
    "## DEBUG\n",
    "\n",
    "H, d_model, dk, dv=8,512,64,32\n",
    "batch_size, Tq, Tv = 16,9,9\n",
    "\n",
    "mha_layer= Multihead_Attention(H, d_model, dk, dv)\n",
    "\n",
    "Q= tf.random.uniform((batch_size, Tq, d_model))\n",
    "K= tf.random.uniform((batch_size, Tv, d_model))\n",
    "V= tf.random.uniform((batch_size, Tv, d_model))\n",
    "\n",
    "A=mha_layer(Q,K,V)\n",
    "print(A.shape)"
   ]
  },
  {
   "cell_type": "markdown",
   "id": "3bfd6694-606b-4e96-8e05-5ac631123117",
   "metadata": {},
   "source": [
    "### Pointwise FNN¶\n"
   ]
  },
  {
   "cell_type": "code",
   "execution_count": 28,
   "id": "cd426368-8408-4e65-ab0b-5cf0e28eea4a",
   "metadata": {},
   "outputs": [],
   "source": [
    "class FNNLayer(tf.keras.layers.Layer):\n",
    "    def __init__(self, d_model, dff):\n",
    "        \n",
    "        \"\"\"\n",
    "        Arguments:\n",
    "        d_model -- the dimension of the embedding (=64 in the paper)\n",
    "        dff -- the dimension of the hidden layer of the FNN (=2048 in the paper)\n",
    "        \"\"\"\n",
    "            \n",
    "        super(FNNLayer, self).__init__()\n",
    "\n",
    "        self.layer1 = Conv1D(filters=dff, kernel_size=1,activation=\"relu\")\n",
    "        self.layer2 = Conv1D(filters=d_model, kernel_size=1)\n",
    "    def call(self, x):\n",
    "        \"\"\"\n",
    "        Arguments:\n",
    "            x -- Tensor of shape (batch_size, input_seq_len, embedding_dim)\n",
    "            \n",
    "        Returns:\n",
    "            fnn_layer_out -- Tensor of shape (batch_size, input_seq_len, embedding_dim)\n",
    "        \"\"\"\n",
    "        \n",
    "        x=self.layer1(x)\n",
    "        fnn_layer_out=self.layer2(x)\n",
    "\n",
    "        \n",
    "        return fnn_layer_out"
   ]
  },
  {
   "cell_type": "code",
   "execution_count": 29,
   "id": "51b4588b-aa1b-4ba9-9894-ba5e63b90ae7",
   "metadata": {},
   "outputs": [
    {
     "name": "stdout",
     "output_type": "stream",
     "text": [
      "(16, 9, 64)\n"
     ]
    }
   ],
   "source": [
    "## DEBUG\n",
    "\n",
    "d_model, dff = 64, 2048\n",
    "fnn_layer= FNNLayer(d_model, dff)\n",
    "\n",
    "batch_size, Tv= 16, 9\n",
    "x=tf.random.uniform((batch_size, Tv, d_model))\n",
    "\n",
    "print(fnn_layer(x).shape)"
   ]
  },
  {
   "cell_type": "markdown",
   "id": "a4f4b0c3-87d4-4585-8e36-15439760f3ee",
   "metadata": {},
   "source": [
    "### Positional encoding"
   ]
  },
  {
   "cell_type": "code",
   "execution_count": 30,
   "id": "9b763350-1f50-4a9a-9fc3-7eee41cf2baf",
   "metadata": {},
   "outputs": [],
   "source": [
    "def positional_encoding(positions, d):\n",
    "    \"\"\"\n",
    "    Precomputes a matrix with all the positional encodings \n",
    "    \n",
    "    Arguments:\n",
    "        positions (int) -- Maximum number of positions to be encoded \n",
    "        d (int) -- Encoding size d_model\n",
    "    \n",
    "        arguments de get_angles:\n",
    "            pos -- Column vector containing the positions [[0], [1], ...,[N-1]]\n",
    "            k --   Row vector containing the dimension span [[0, 1, 2, ..., d-1]]\n",
    "            d(integer) -- Encoding size\n",
    "            \n",
    "    Returns:\n",
    "        pos_encoding -- (1, position, d_model) A matrix with the positional encodings\n",
    "    \"\"\"\n",
    "    # initialize a matrix angle_rads of all the angles\n",
    "    pos=np.arange(positions)[:, np.newaxis] #Column vector containing the position span [0,1,..., positions]\n",
    "    k= np.arange(d)[np.newaxis, :]  #Row vector containing the dimension span [[0, 1, ..., d-1]]\n",
    "    i = k//2\n",
    "    angle_rads = pos/(10000**(2*i/d)) #Matrix of angles indexed by (pos,i)\n",
    "    \n",
    "    # apply sin to even indices in the array; 2i\n",
    "    angle_rads[:, 0::2] = np.sin(angle_rads[:, 0::2])\n",
    "  \n",
    "    # apply cos to odd indices in the array; 2i+1\n",
    "    angle_rads[:, 1::2] = np.cos(angle_rads[:, 1::2])\n",
    "\n",
    "    #adds batch axis\n",
    "    pos_encoding = angle_rads[np.newaxis, ...] \n",
    "    \n",
    "    return tf.cast(pos_encoding, dtype=tf.float32)"
   ]
  },
  {
   "cell_type": "markdown",
   "id": "59983aa9-bdd9-4a10-85f6-93f2a381df22",
   "metadata": {},
   "source": [
    "Let us plot the obtained results\n",
    "\n"
   ]
  },
  {
   "cell_type": "code",
   "execution_count": 31,
   "id": "33f14e21-36ea-4d69-aee5-5c4c287dfc3a",
   "metadata": {},
   "outputs": [
    {
     "name": "stdout",
     "output_type": "stream",
     "text": [
      "(1, 50, 512)\n"
     ]
    },
    {
     "data": {
      "image/png": "[encoded data removed]",
      "text/plain": [
       "<Figure size 640x480 with 2 Axes>"
      ]
     },
     "metadata": {},
     "output_type": "display_data"
    }
   ],
   "source": [
    "positions, d=50,512\n",
    "pos_encoding = positional_encoding(positions, d)\n",
    "\n",
    "print (pos_encoding.shape)\n",
    "\n",
    "plt.pcolormesh(pos_encoding[0], cmap='RdBu')\n",
    "plt.xlabel('d')\n",
    "plt.xlim((0, 512))\n",
    "plt.ylabel('Position')\n",
    "plt.colorbar()\n",
    "plt.show()"
   ]
  },
  {
   "cell_type": "markdown",
   "id": "d44be713-f265-49e1-88e1-02d4d25b593a",
   "metadata": {},
   "source": [
    "### Masking"
   ]
  },
  {
   "cell_type": "markdown",
   "id": "5c306340-7a41-4214-a259-a6be40abe7fc",
   "metadata": {},
   "source": [
    "There are two types of masks that are useful when building your Transformer network: the padding mask and the look-ahead mask. Both help the softmax computation give the appropriate weights to the words in the input sentence.\n",
    "\n",
    "Padding mask\n",
    "When passing sequences into a transformer model, it is important that they are of uniform length. You can achieve this by padding the sequence with zeros, and truncating sentences that exceed the maximum length of your model.\n",
    "\n",
    "In the case where the sequence is padded with zeros, we need to create a mask to let the algorithm know that it should discard the zero values."
   ]
  },
  {
   "cell_type": "code",
   "execution_count": 32,
   "id": "deeb8530-96f7-4626-9bc1-1258dddc2d40",
   "metadata": {},
   "outputs": [],
   "source": [
    "def create_padding_mask(decoder_token_ids):\n",
    "    \"\"\"\n",
    "    Creates a matrix mask for the padding cells\n",
    "    \n",
    "    Arguments:\n",
    "        decoder_token_ids -- (n, m) matrix. n=batch_size, m=fixed size of input sentences\n",
    "    \n",
    "    Returns:\n",
    "        mask -- (n, 1, m) binary tensor\n",
    "    \"\"\"    \n",
    "    seq = 1 - tf.cast(tf.math.equal(decoder_token_ids, 0), tf.float32)\n",
    "  \n",
    "    # add extra dimensions to add the padding to the attention logits.\n",
    "    return seq[:, tf.newaxis, :] "
   ]
  },
  {
   "cell_type": "code",
   "execution_count": 33,
   "id": "ba98ea2b-a5ae-4b85-a138-a4778bba683c",
   "metadata": {},
   "outputs": [
    {
     "name": "stdout",
     "output_type": "stream",
     "text": [
      "tf.Tensor(\n",
      "[[[1. 1. 0. 0. 1.]]\n",
      "\n",
      " [[1. 1. 1. 0. 0.]]\n",
      "\n",
      " [[0. 0. 0. 1. 1.]]], shape=(3, 1, 5), dtype=float32)\n"
     ]
    }
   ],
   "source": [
    "x = tf.constant([[7., 6., 0., 0., 1.], [1., 2., 3., 0., 0.], [0., 0., 0., 4., 5.]])\n",
    "print(create_padding_mask(x))"
   ]
  },
  {
   "cell_type": "markdown",
   "id": "d6d67593-5ec1-4230-9fb7-42a558d4dde7",
   "metadata": {},
   "source": [
    "### Look-ahead Mask¶\n"
   ]
  },
  {
   "cell_type": "markdown",
   "id": "073765e4-f610-4af8-b908-9fabccd6853c",
   "metadata": {},
   "source": [
    "In training, we have access to the complete correct output of the training example. The look-ahead mask helps the model pretend that it correctly predicted a part of the output and see if, without looking ahead, it can correctly predict the next output.\n",
    "\n"
   ]
  },
  {
   "cell_type": "code",
   "execution_count": 34,
   "id": "e4bd82f9-f356-4140-aefb-2c6491670dd3",
   "metadata": {},
   "outputs": [],
   "source": [
    "def create_look_ahead_mask(sequence_length):\n",
    "    \"\"\"\n",
    "    Returns an upper triangular matrix filled with ones\n",
    "    \n",
    "    Arguments:\n",
    "        sequence_length -- matrix size\n",
    "    \n",
    "    Returns:\n",
    "        mask -- (size, size) tensor\n",
    "    \"\"\"\n",
    "    mask = tf.linalg.band_part(tf.ones((1, sequence_length, sequence_length)), -1, 0)\n",
    "    return mask "
   ]
  },
  {
   "cell_type": "code",
   "execution_count": 35,
   "id": "65b59944-7497-4ae9-9e80-39a75da43d59",
   "metadata": {},
   "outputs": [
    {
     "data": {
      "text/plain": [
       "<tf.Tensor: shape=(1, 3, 3), dtype=float32, numpy=\n",
       "array([[[1., 0., 0.],\n",
       "        [1., 1., 0.],\n",
       "        [1., 1., 1.]]], dtype=float32)>"
      ]
     },
     "execution_count": 35,
     "metadata": {},
     "output_type": "execute_result"
    }
   ],
   "source": [
    "x = tf.random.uniform((1, 3))\n",
    "create_look_ahead_mask(x.shape[1])"
   ]
  },
  {
   "cell_type": "markdown",
   "id": "b32ebd42-93c7-49bb-9fe1-bd21dcfaab41",
   "metadata": {},
   "source": [
    "### Encoder\n",
    "Encoder layer\n",
    "\n",
    "We recall that the encoder layer is composed by a multi-head self-attention mechanism, followed by a positionwise fully connected feed-forward network. This archirecture includes a residual connection around each of the two sub-layers, followed by layer normalization.\n",
    "\n"
   ]
  },
  {
   "cell_type": "code",
   "execution_count": 36,
   "id": "9b758e18-555b-4e24-87a6-8a4747cdb7dc",
   "metadata": {},
   "outputs": [],
   "source": [
    "class EncoderLayer(tf.keras.layers.Layer):\n",
    "\n",
    "    def __init__(self, H, d_model, dk, dv, dff, Tq, dropout_rate=0.1, layernorm_eps=1e-6):\n",
    "        \n",
    "        \"\"\"\n",
    "        Arguments:\n",
    "\n",
    "        H -- number of heads (=8 in the paper)\n",
    "        d_models -- embedding dimension (=512 in the paper)\n",
    "        dk -- depth of Q and K (=64 in the paper)\n",
    "        dv -- depth of V (=64 in the paper)\n",
    "        dff -- the dimension of the hidden layer of the FNN (=2048 in the paper)\n",
    "        dropout_rate -- Dropout parameter used (during training) before all the residual connections\n",
    "        layernorm_eps -- eta regularizing parameter for the Normalization layer \n",
    "        \"\"\"\n",
    "        \n",
    "        super(EncoderLayer, self).__init__()\n",
    "        \n",
    "        self.mha = Multihead_Attention(H, d_model, dk, dv)\n",
    "        self.ffn = FNNLayer(d_model, dff)\n",
    "        self.layernorm1 = LayerNormalization(epsilon=layernorm_eps)\n",
    "        self.layernorm2 = LayerNormalization(epsilon=layernorm_eps)\n",
    "        self.dropout_mha = Dropout(dropout_rate)\n",
    "        self.dropout_ffn = Dropout(dropout_rate)\n",
    "    \n",
    "    def call(self, x, training=False, mask=None):\n",
    "        \"\"\"\n",
    "        Forward pass for the Encoder Layer\n",
    "        \n",
    "        Arguments:\n",
    "            x -- Tensor of shape (batch_size, Tq, d_model)\n",
    "            training -- Boolean, set to true to activate\n",
    "                        the training mode for dropout layers. Defaults to False\n",
    "            mask -- Boolean mask to ensure that the padding is not \n",
    "                    treated as part of the input. Defaults to None\n",
    "        Returns:\n",
    "            encoder_layer_out -- Tensor of shape (batch_size, Tq, d_model)\n",
    "        \"\"\"\n",
    "        A = self.mha(x,x,x,mask=mask) # Self attention (batch_size, Tq, d_model)\n",
    "        A = self.dropout_mha(A, training=training) #Apply Dropout during training\n",
    "        #  Residual connection + Layer normalization\n",
    "        out1 = self.layernorm1(x+A)  # (batch_size, Tq, d_model)\n",
    "\n",
    "        # Pointwise ffn\n",
    "        ffn_output = self.ffn(out1) # (batch_size, Tq, d_model)\n",
    "        ffn_output = self.dropout_ffn(ffn_output, training=training) # Apply Dropout during training\n",
    "        \n",
    "        # Residual connection + Layer normalization\n",
    "        encoder_layer_out = self.layernorm2(ffn_output+out1)  # (batch_size, input_seq_len, fully_connected_dim)\n",
    "        \n",
    "        return encoder_layer_out\n"
   ]
  },
  {
   "cell_type": "code",
   "execution_count": 39,
   "id": "3586ce01-eebf-4032-8058-62fd8a3d7372",
   "metadata": {},
   "outputs": [
    {
     "name": "stdout",
     "output_type": "stream",
     "text": [
      "(43, 27, 8, 32) (256, 512)\n",
      "(43, 27, 8, 32) (256, 512)\n",
      "(43, 27, 512) (43, 27, 512)\n"
     ]
    }
   ],
   "source": [
    "## DEBUG\n",
    "\n",
    "H, d_model, dk, dv, dff = 8, 512, 64, 32, 2048\n",
    "batch_size, Tq= 43, 27\n",
    "\n",
    "layer = EncoderLayer(H, d_model, dk, dv, dff, Tq)\n",
    "x = tf.random.uniform((batch_size, Tq, d_model))\n",
    "\n",
    "output = layer(x,training=True)\n",
    "print(x.shape, output.shape)"
   ]
  },
  {
   "cell_type": "code",
   "execution_count": null,
   "id": "16ab11fa-c1a3-4ae5-9382-31e01c7f4db4",
   "metadata": {},
   "outputs": [],
   "source": []
  },
  {
   "cell_type": "code",
   "execution_count": null,
   "id": "b54a9fe4-9ebd-4fee-9fe6-e0a45fa7dfc2",
   "metadata": {},
   "outputs": [],
   "source": []
  }
 ],
 "metadata": {
  "kernelspec": {
   "display_name": "Python 3 (ipykernel)",
   "language": "python",
   "name": "python3"
  },
  "language_info": {
   "codemirror_mode": {
    "name": "ipython",
    "version": 3
   },
   "file_extension": ".py",
   "mimetype": "text/x-python",
   "name": "python",
   "nbconvert_exporter": "python",
   "pygments_lexer": "ipython3",
   "version": "3.12.1"
  }
 },
 "nbformat": 4,
 "nbformat_minor": 5
}
