{
 "cells": [
  {
   "cell_type": "markdown",
   "id": "f2fc2f49-7c38-4399-b919-22a78cc5c30c",
   "metadata": {},
   "source": [
    "# 1. Setting up"
   ]
  },
  {
   "cell_type": "markdown",
   "id": "ae49d0b5-b33e-423b-96e5-5968b1426ca3",
   "metadata": {},
   "source": [
    "### Original tutorial:\n",
    "https://www.tensorflow.org/tutorials/generative/dcgan\n"
   ]
  },
  {
   "cell_type": "code",
   "execution_count": 1,
   "id": "bb8128dd-c9a2-41e3-bcb6-6cb1491650f3",
   "metadata": {},
   "outputs": [],
   "source": [
    "import tensorflow as tf\n"
   ]
  },
  {
   "cell_type": "code",
   "execution_count": 2,
   "id": "cca1f6fe-f116-447e-81cd-df3f24103a6e",
   "metadata": {},
   "outputs": [
    {
     "data": {
      "text/plain": [
       "'2.16.1'"
      ]
     },
     "execution_count": 2,
     "metadata": {},
     "output_type": "execute_result"
    }
   ],
   "source": [
    "tf.__version__"
   ]
  },
  {
   "cell_type": "code",
   "execution_count": 3,
   "id": "f0ac2498-a969-4e59-8f3a-af8326cbabca",
   "metadata": {},
   "outputs": [
    {
     "name": "stdout",
     "output_type": "stream",
     "text": [
      "Requirement already satisfied: imageio in /Users/sookim/miniconda3/lib/python3.12/site-packages (2.34.0)\n",
      "Requirement already satisfied: glob2 in /Users/sookim/miniconda3/lib/python3.12/site-packages (0.7)\n",
      "Requirement already satisfied: matplotlib in /Users/sookim/miniconda3/lib/python3.12/site-packages (3.8.4)\n",
      "Requirement already satisfied: numpy in /Users/sookim/miniconda3/lib/python3.12/site-packages (1.26.4)\n",
      "Requirement already satisfied: pillow in /Users/sookim/miniconda3/lib/python3.12/site-packages (10.2.0)\n",
      "Requirement already satisfied: TIME-python in /Users/sookim/miniconda3/lib/python3.12/site-packages (0.0.17)\n",
      "Requirement already satisfied: contourpy>=1.0.1 in /Users/sookim/miniconda3/lib/python3.12/site-packages (from matplotlib) (1.2.0)\n",
      "Requirement already satisfied: cycler>=0.10 in /Users/sookim/miniconda3/lib/python3.12/site-packages (from matplotlib) (0.12.1)\n",
      "Requirement already satisfied: fonttools>=4.22.0 in /Users/sookim/miniconda3/lib/python3.12/site-packages (from matplotlib) (4.50.0)\n",
      "Requirement already satisfied: kiwisolver>=1.3.1 in /Users/sookim/miniconda3/lib/python3.12/site-packages (from matplotlib) (1.4.5)\n",
      "Requirement already satisfied: packaging>=20.0 in /Users/sookim/miniconda3/lib/python3.12/site-packages (from matplotlib) (23.1)\n",
      "Requirement already satisfied: pyparsing>=2.3.1 in /Users/sookim/miniconda3/lib/python3.12/site-packages (from matplotlib) (3.1.2)\n",
      "Requirement already satisfied: python-dateutil>=2.7 in /Users/sookim/miniconda3/lib/python3.12/site-packages (from matplotlib) (2.9.0.post0)\n",
      "Requirement already satisfied: dipy in /Users/sookim/miniconda3/lib/python3.12/site-packages (from TIME-python) (1.9.0)\n",
      "Requirement already satisfied: nibabel in /Users/sookim/miniconda3/lib/python3.12/site-packages (from TIME-python) (5.2.1)\n",
      "Requirement already satisfied: scipy in /Users/sookim/miniconda3/lib/python3.12/site-packages (from TIME-python) (1.12.0)\n",
      "Requirement already satisfied: six>=1.5 in /Users/sookim/miniconda3/lib/python3.12/site-packages (from python-dateutil>=2.7->matplotlib) (1.16.0)\n",
      "Requirement already satisfied: h5py>=3.1.0 in /Users/sookim/miniconda3/lib/python3.12/site-packages (from dipy->TIME-python) (3.10.0)\n",
      "Requirement already satisfied: tqdm>=4.30.0 in /Users/sookim/miniconda3/lib/python3.12/site-packages (from dipy->TIME-python) (4.65.0)\n",
      "Requirement already satisfied: trx-python>=0.2.9 in /Users/sookim/miniconda3/lib/python3.12/site-packages (from dipy->TIME-python) (0.2.9)\n",
      "Requirement already satisfied: setuptools-scm in /Users/sookim/miniconda3/lib/python3.12/site-packages (from trx-python>=0.2.9->dipy->TIME-python) (8.0.4)\n",
      "Requirement already satisfied: deepdiff in /Users/sookim/miniconda3/lib/python3.12/site-packages (from trx-python>=0.2.9->dipy->TIME-python) (7.0.0)\n",
      "Requirement already satisfied: ordered-set<4.2.0,>=4.1.0 in /Users/sookim/miniconda3/lib/python3.12/site-packages (from deepdiff->trx-python>=0.2.9->dipy->TIME-python) (4.1.0)\n",
      "Requirement already satisfied: setuptools in /Users/sookim/miniconda3/lib/python3.12/site-packages (from setuptools-scm->trx-python>=0.2.9->dipy->TIME-python) (68.2.2)\n",
      "Requirement already satisfied: typing-extensions in /Users/sookim/miniconda3/lib/python3.12/site-packages (from setuptools-scm->trx-python>=0.2.9->dipy->TIME-python) (4.10.0)\n",
      "Collecting git+https://github.com/tensorflow/docs\n",
      "  Cloning https://github.com/tensorflow/docs to /private/var/folders/5m/7g056w7s7017wgnsbq1hvfwr0000gn/T/pip-req-build-kf0x75z8\n",
      "  Running command git clone --filter=blob:none --quiet https://github.com/tensorflow/docs /private/var/folders/5m/7g056w7s7017wgnsbq1hvfwr0000gn/T/pip-req-build-kf0x75z8\n",
      "  Resolved https://github.com/tensorflow/docs to commit ec3a1b3f9a604c6cd26c7537f2b9fd270a3eedbf\n",
      "  Preparing metadata (setup.py) ... \u001b[?25ldone\n",
      "\u001b[?25hRequirement already satisfied: astor in /Users/sookim/miniconda3/lib/python3.12/site-packages (from tensorflow-docs==2024.3.27.3713) (0.8.1)\n",
      "Requirement already satisfied: absl-py in /Users/sookim/miniconda3/lib/python3.12/site-packages (from tensorflow-docs==2024.3.27.3713) (1.4.0)\n",
      "Requirement already satisfied: jinja2 in /Users/sookim/miniconda3/lib/python3.12/site-packages (from tensorflow-docs==2024.3.27.3713) (3.1.3)\n",
      "Requirement already satisfied: nbformat in /Users/sookim/miniconda3/lib/python3.12/site-packages (from tensorflow-docs==2024.3.27.3713) (5.10.3)\n",
      "Requirement already satisfied: protobuf>=3.12 in /Users/sookim/miniconda3/lib/python3.12/site-packages (from tensorflow-docs==2024.3.27.3713) (3.20.3)\n",
      "Requirement already satisfied: pyyaml in /Users/sookim/miniconda3/lib/python3.12/site-packages (from tensorflow-docs==2024.3.27.3713) (6.0.1)\n",
      "Requirement already satisfied: MarkupSafe>=2.0 in /Users/sookim/miniconda3/lib/python3.12/site-packages (from jinja2->tensorflow-docs==2024.3.27.3713) (2.1.5)\n",
      "Requirement already satisfied: fastjsonschema in /Users/sookim/miniconda3/lib/python3.12/site-packages (from nbformat->tensorflow-docs==2024.3.27.3713) (2.19.1)\n",
      "Requirement already satisfied: jsonschema>=2.6 in /Users/sookim/miniconda3/lib/python3.12/site-packages (from nbformat->tensorflow-docs==2024.3.27.3713) (4.21.1)\n",
      "Requirement already satisfied: jupyter-core in /Users/sookim/miniconda3/lib/python3.12/site-packages (from nbformat->tensorflow-docs==2024.3.27.3713) (5.7.2)\n",
      "Requirement already satisfied: traitlets>=5.1 in /Users/sookim/miniconda3/lib/python3.12/site-packages (from nbformat->tensorflow-docs==2024.3.27.3713) (5.14.2)\n",
      "Requirement already satisfied: attrs>=22.2.0 in /Users/sookim/miniconda3/lib/python3.12/site-packages (from jsonschema>=2.6->nbformat->tensorflow-docs==2024.3.27.3713) (23.2.0)\n",
      "Requirement already satisfied: jsonschema-specifications>=2023.03.6 in /Users/sookim/miniconda3/lib/python3.12/site-packages (from jsonschema>=2.6->nbformat->tensorflow-docs==2024.3.27.3713) (2023.12.1)\n",
      "Requirement already satisfied: referencing>=0.28.4 in /Users/sookim/miniconda3/lib/python3.12/site-packages (from jsonschema>=2.6->nbformat->tensorflow-docs==2024.3.27.3713) (0.34.0)\n",
      "Requirement already satisfied: rpds-py>=0.7.1 in /Users/sookim/miniconda3/lib/python3.12/site-packages (from jsonschema>=2.6->nbformat->tensorflow-docs==2024.3.27.3713) (0.18.0)\n",
      "Requirement already satisfied: platformdirs>=2.5 in /Users/sookim/miniconda3/lib/python3.12/site-packages (from jupyter-core->nbformat->tensorflow-docs==2024.3.27.3713) (3.10.0)\n"
     ]
    }
   ],
   "source": [
    "# To generate GIFs\n",
    "!pip install imageio glob2 matplotlib numpy pillow TIME-python\n",
    "!pip install git+https://github.com/tensorflow/docs"
   ]
  },
  {
   "cell_type": "code",
   "execution_count": 4,
   "id": "e7e6b9e2-c6be-4612-9054-2534ec539515",
   "metadata": {},
   "outputs": [],
   "source": [
    "import glob\n",
    "import imageio\n",
    "import matplotlib.pyplot as plt\n",
    "import numpy as np\n",
    "import os\n",
    "import PIL\n",
    "from tensorflow.keras import layers\n",
    "import time\n",
    "from IPython import display"
   ]
  },
  {
   "cell_type": "markdown",
   "id": "5773f7af-5e5b-40bd-8c1b-647b094e2e2c",
   "metadata": {},
   "source": [
    "## 2. Load and prepare the dataset\n",
    "You will use the MNIST dataset to train the generator and the discriminator. The generator will generate handwritten digits resembling the MNIST data."
   ]
  },
  {
   "cell_type": "code",
   "execution_count": 5,
   "id": "d84d9bf5-05e6-4f76-814c-69ad71d4da56",
   "metadata": {},
   "outputs": [],
   "source": [
    "(train_images, train_labels), (_, _) = tf.keras.datasets.mnist.load_data()\n"
   ]
  },
  {
   "cell_type": "code",
   "execution_count": 6,
   "id": "6137fe34-f102-449e-af0c-7c717af71efa",
   "metadata": {},
   "outputs": [],
   "source": [
    "train_images = train_images.reshape(train_images.shape[0], 28, 28, 1).astype('float32')\n",
    "train_images = (train_images - 127.5) / 127.5  # Normalize the images to [-1, 1]"
   ]
  },
  {
   "cell_type": "code",
   "execution_count": 7,
   "id": "f75c3f59-57a6-45a7-b79c-08d7b6dd048d",
   "metadata": {},
   "outputs": [],
   "source": [
    "BUFFER_SIZE = 60000\n",
    "BATCH_SIZE = 256"
   ]
  },
  {
   "cell_type": "code",
   "execution_count": 8,
   "id": "7c09ebf5-1cda-4783-8020-b61628f2c6b3",
   "metadata": {},
   "outputs": [],
   "source": [
    "# Batch and shuffle the data\n",
    "train_dataset = tf.data.Dataset.from_tensor_slices(train_images).shuffle(BUFFER_SIZE).batch(BATCH_SIZE)"
   ]
  },
  {
   "cell_type": "markdown",
   "id": "80d73e5f-72a2-4169-b550-6c6bf000134c",
   "metadata": {},
   "source": [
    "## 3. Create the models\n",
    "Both the generator and discriminator are defined using the Keras Sequential API.\n",
    "### The Generator\n",
    "The generator uses tf.keras.layers.Conv2DTranspose (upsampling) layers to produce an image from a seed (random noise). Start with a Dense layer that takes this seed as input, then upsample several times until you reach the desired image size of 28x28x1. Notice the tf.keras.layers.LeakyReLU activation for each layer, except the output layer which uses tanh.\n"
   ]
  },
  {
   "cell_type": "code",
   "execution_count": 9,
   "id": "44a31353-6e79-4ad6-88f3-31a454bc0ed3",
   "metadata": {},
   "outputs": [],
   "source": [
    "def make_generator_model():\n",
    "    model = tf.keras.Sequential()\n",
    "    model.add(layers.Dense(7*7*256, use_bias=False, input_shape=(100,)))\n",
    "    model.add(layers.BatchNormalization())\n",
    "    model.add(layers.LeakyReLU())\n",
    "\n",
    "    model.add(layers.Reshape((7, 7, 256)))\n",
    "    assert model.output_shape == (None, 7, 7, 256)  # Note: None is the batch size\n",
    "\n",
    "    model.add(layers.Conv2DTranspose(128, (5, 5), strides=(1, 1), padding='same', use_bias=False))\n",
    "    assert model.output_shape == (None, 7, 7, 128)\n",
    "    model.add(layers.BatchNormalization())\n",
    "    model.add(layers.LeakyReLU())\n",
    "\n",
    "    model.add(layers.Conv2DTranspose(64, (5, 5), strides=(2, 2), padding='same', use_bias=False))\n",
    "    assert model.output_shape == (None, 14, 14, 64)\n",
    "    model.add(layers.BatchNormalization())\n",
    "    model.add(layers.LeakyReLU())\n",
    "\n",
    "    model.add(layers.Conv2DTranspose(1, (5, 5), strides=(2, 2), padding='same', use_bias=False, activation='tanh'))\n",
    "    assert model.output_shape == (None, 28, 28, 1)\n",
    "\n",
    "    return model"
   ]
  },
  {
   "cell_type": "markdown",
   "id": "d9f55ef8-18b5-4278-93f9-b5a9073fc0df",
   "metadata": {},
   "source": [
    "### lets test it out."
   ]
  },
  {
   "cell_type": "code",
   "execution_count": 10,
   "id": "a2adeda0-bf67-485a-8fe5-9be405bc332a",
   "metadata": {},
   "outputs": [
    {
     "name": "stdout",
     "output_type": "stream",
     "text": [
      "(1, 28, 28, 1)\n"
     ]
    },
    {
     "name": "stderr",
     "output_type": "stream",
     "text": [
      "/Users/sookim/miniconda3/lib/python3.12/site-packages/keras/src/layers/core/dense.py:88: UserWarning: Do not pass an `input_shape`/`input_dim` argument to a layer. When using Sequential models, prefer using an `Input(shape)` object as the first layer in the model instead.\n",
      "  super().__init__(activity_regularizer=activity_regularizer, **kwargs)\n"
     ]
    }
   ],
   "source": [
    "generator = make_generator_model()\n",
    "\n",
    "noise = tf.random.normal([1, 100])\n",
    "generated_image = generator(noise, training=False)\n",
    "print(generated_image.shape)"
   ]
  },
  {
   "cell_type": "code",
   "execution_count": 11,
   "id": "49346ca8-4a8b-41e3-a6b4-10fff0bd33be",
   "metadata": {},
   "outputs": [
    {
     "data": {
      "text/plain": [
       "<matplotlib.image.AxesImage at 0x28cf68a70>"
      ]
     },
     "execution_count": 11,
     "metadata": {},
     "output_type": "execute_result"
    },
    {
     "data": {
      "image/png": "[encoded data removed]",
      "text/plain": [
       "<Figure size 640x480 with 1 Axes>"
      ]
     },
     "metadata": {},
     "output_type": "display_data"
    }
   ],
   "source": [
    "plt.imshow(generated_image[0, :, :, 0], cmap='gray')"
   ]
  },
  {
   "cell_type": "markdown",
   "id": "fec2606f-8b39-4db5-9a60-1f47617c0214",
   "metadata": {},
   "source": [
    "### The Discriminator\n",
    "The discriminator is a CNN-based image classifier.\n"
   ]
  },
  {
   "cell_type": "code",
   "execution_count": 12,
   "id": "d258e8da-8fde-41b3-ae4d-584986fb3fe7",
   "metadata": {},
   "outputs": [],
   "source": [
    "def make_discriminator_model():\n",
    "    model = tf.keras.Sequential()\n",
    "    model.add(layers.Conv2D(64, (5, 5), strides=(2, 2), padding='same',\n",
    "                                     input_shape=[28, 28, 1]))\n",
    "    model.add(layers.LeakyReLU())\n",
    "    model.add(layers.Dropout(0.3))\n",
    "\n",
    "    model.add(layers.Conv2D(128, (5, 5), strides=(2, 2), padding='same'))\n",
    "    model.add(layers.LeakyReLU())\n",
    "    model.add(layers.Dropout(0.3))\n",
    "\n",
    "    model.add(layers.Flatten())\n",
    "    model.add(layers.Dense(1))\n",
    "    model.add(layers.Softmax())\n",
    "\n",
    "    return model"
   ]
  },
  {
   "cell_type": "markdown",
   "id": "41249ad2-e422-4a43-917f-823212dabd74",
   "metadata": {},
   "source": [
    "### Let's test it out again"
   ]
  },
  {
   "cell_type": "code",
   "execution_count": 13,
   "id": "169cf2c2-0ac5-46f2-8ab7-858fc3d8965a",
   "metadata": {},
   "outputs": [
    {
     "name": "stdout",
     "output_type": "stream",
     "text": [
      "tf.Tensor([[1.]], shape=(1, 1), dtype=float32)\n"
     ]
    },
    {
     "name": "stderr",
     "output_type": "stream",
     "text": [
      "/Users/sookim/miniconda3/lib/python3.12/site-packages/keras/src/layers/convolutional/base_conv.py:99: UserWarning: Do not pass an `input_shape`/`input_dim` argument to a layer. When using Sequential models, prefer using an `Input(shape)` object as the first layer in the model instead.\n",
      "  super().__init__(\n",
      "/Users/sookim/miniconda3/lib/python3.12/site-packages/keras/src/ops/nn.py:545: UserWarning: You are using a softmax over axis -1 of a tensor of shape (1, 1). This axis has size 1. The softmax operation will always return the value 1, which is likely not what you intended. Did you mean to use a sigmoid instead?\n",
      "  warnings.warn(\n"
     ]
    }
   ],
   "source": [
    "discriminator = make_discriminator_model()\n",
    "decision = discriminator(generated_image)\n",
    "print (decision)\n"
   ]
  },
  {
   "cell_type": "markdown",
   "id": "c87f4a16-b9fc-41dd-ba09-499c66ffaa10",
   "metadata": {},
   "source": [
    "### Loss is the main thing in GAN:\n",
    "Define the loss and optimizers"
   ]
  },
  {
   "cell_type": "code",
   "execution_count": 14,
   "id": "adc34ece-a619-430e-9452-60ca4e1f80a5",
   "metadata": {},
   "outputs": [],
   "source": [
    "# This method returns a helper function to compute cross entropy loss\n",
    "cross_entropy = tf.keras.losses.BinaryCrossentropy(from_logits=True)"
   ]
  },
  {
   "cell_type": "markdown",
   "id": "cd7ba498-15f7-4848-ab3d-d79b652397e6",
   "metadata": {},
   "source": [
    "### Discriminator loss\n",
    "This method quantifies how well the discriminator is able to distinguish real images from fakes. It compares the discriminator's predictions on real images to an array of 1s, and the discriminator's predictions on fake (generated) images to an array of 0s.\n",
    "\n"
   ]
  },
  {
   "cell_type": "code",
   "execution_count": 15,
   "id": "2afd2faa-1af1-4677-b4e7-422aaf290e67",
   "metadata": {},
   "outputs": [],
   "source": [
    "def discriminator_loss(real_output, fake_output):\n",
    "    real_loss = cross_entropy(tf.ones_like(real_output), real_output)\n",
    "    fake_loss = cross_entropy(tf.zeros_like(fake_output), fake_output)\n",
    "    total_loss = real_loss + fake_loss\n",
    "    return total_loss"
   ]
  },
  {
   "cell_type": "markdown",
   "id": "59acef88-0bce-4a67-81e8-9003f5b76976",
   "metadata": {},
   "source": [
    "### Generator loss\n",
    "The generator's loss quantifies how well it was able to trick the discriminator. Intuitively, if the generator is performing well, the discriminator will classify the fake images as real (or 1). Here, compare the discriminators decisions on the generated images to an array of 1s."
   ]
  },
  {
   "cell_type": "code",
   "execution_count": 16,
   "id": "b6399647-83d4-4e8a-a67a-313f9091392c",
   "metadata": {},
   "outputs": [],
   "source": [
    "def generator_loss(fake_output):\n",
    "    return cross_entropy(tf.ones_like(fake_output), fake_output)"
   ]
  },
  {
   "cell_type": "markdown",
   "id": "d3ca92e6-5b51-4d8e-b1d6-56c57f2a1067",
   "metadata": {},
   "source": [
    "### (Important!) The discriminator and the generator optimizers are different since you will train two networks separately.\n",
    "\n"
   ]
  },
  {
   "cell_type": "code",
   "execution_count": 17,
   "id": "eed9b120-5514-4582-8f13-8d9d3f09af0b",
   "metadata": {},
   "outputs": [],
   "source": [
    "generator_optimizer = tf.keras.optimizers.Adam(1e-4)\n",
    "discriminator_optimizer = tf.keras.optimizers.Adam(1e-4)"
   ]
  },
  {
   "cell_type": "markdown",
   "id": "976ded4e-b6c3-4ff7-84ba-bf0ba1f2ecbb",
   "metadata": {},
   "source": [
    "### save checkpoints"
   ]
  },
  {
   "cell_type": "code",
   "execution_count": 18,
   "id": "0f16f31e-47a5-4a1a-8e1d-6defd9916650",
   "metadata": {},
   "outputs": [],
   "source": [
    "checkpoint_dir = './'\n",
    "checkpoint_prefix = os.path.join(checkpoint_dir, \"ckpt\")\n",
    "checkpoint = tf.train.Checkpoint(generator_optimizer=generator_optimizer,\n",
    "                                 discriminator_optimizer=discriminator_optimizer,\n",
    "                                 generator=generator,\n",
    "                                 discriminator=discriminator)"
   ]
  },
  {
   "cell_type": "markdown",
   "id": "e32f565e-4b1a-472f-abdf-4d47d126caba",
   "metadata": {},
   "source": [
    "### training loop"
   ]
  },
  {
   "cell_type": "code",
   "execution_count": 19,
   "id": "f8c5c9c2-23b1-47a0-94b9-4e8e7a49cbb8",
   "metadata": {},
   "outputs": [],
   "source": [
    "EPOCHS = 50\n",
    "noise_dim = 100\n",
    "num_examples_to_generate = 16\n",
    "\n",
    "# You will reuse this seed overtime (so it's easier)\n",
    "# to visualize progress in the animated GIF)\n",
    "seed = tf.random.normal([num_examples_to_generate, noise_dim])"
   ]
  },
  {
   "cell_type": "code",
   "execution_count": 20,
   "id": "dd994e7b-fd30-434a-bbaf-bb9c79a415c6",
   "metadata": {},
   "outputs": [],
   "source": [
    "# Notice the use of `tf.function`\n",
    "# This annotation causes the function to be \"compiled\".\n",
    "@tf.function\n",
    "def train_step(images):\n",
    "    noise = tf.random.normal([BATCH_SIZE, noise_dim])\n",
    "\n",
    "    with tf.GradientTape() as gen_tape, tf.GradientTape() as disc_tape:\n",
    "      generated_images = generator(noise, training=True)\n",
    "\n",
    "      real_output = discriminator(images, training=True)\n",
    "      fake_output = discriminator(generated_images, training=True)\n",
    "\n",
    "      gen_loss = generator_loss(fake_output)\n",
    "      disc_loss = discriminator_loss(real_output, fake_output)\n",
    "\n",
    "    gradients_of_generator = gen_tape.gradient(gen_loss, generator.trainable_variables)\n",
    "    gradients_of_discriminator = disc_tape.gradient(disc_loss, discriminator.trainable_variables)\n",
    "\n",
    "    generator_optimizer.apply_gradients(zip(gradients_of_generator, generator.trainable_variables))\n",
    "    discriminator_optimizer.apply_gradients(zip(gradients_of_discriminator, discriminator.trainable_variables))\n",
    "\n"
   ]
  },
  {
   "cell_type": "code",
   "execution_count": 21,
   "id": "e594857c-695d-4b0a-a1a1-f96e826d34ad",
   "metadata": {},
   "outputs": [],
   "source": [
    "def train(dataset, epochs):\n",
    "  for epoch in range(epochs):\n",
    "    start = time.time()\n",
    "\n",
    "    for image_batch in dataset:\n",
    "      train_step(image_batch)\n",
    "\n",
    "    # Produce images for the GIF as you go\n",
    "    display.clear_output(wait=True)\n",
    "    generate_and_save_images(generator,\n",
    "                             epoch + 1,\n",
    "                             seed)\n",
    "\n",
    "    # Save the model every 15 epochs\n",
    "    if (epoch + 1) % 15 == 0:\n",
    "      checkpoint.save(file_prefix = checkpoint_prefix)\n",
    "\n",
    "    print ('Time for epoch {} is {} sec'.format(epoch + 1, time.time()-start))\n",
    "\n",
    "  # Generate after the final epoch\n",
    "  display.clear_output(wait=True)\n",
    "  generate_and_save_images(generator,\n",
    "                           epochs,\n",
    "                           seed)"
   ]
  },
  {
   "cell_type": "code",
   "execution_count": 22,
   "id": "00a5a1e3-eba1-44aa-975e-8d15d65077aa",
   "metadata": {},
   "outputs": [],
   "source": [
    "def generate_and_save_images(model, epoch, test_input):\n",
    "  # Notice `training` is set to False.\n",
    "  # This is so all layers run in inference mode (batchnorm).\n",
    "  predictions = model(test_input, training=False)\n",
    "\n",
    "  fig = plt.figure(figsize=(4, 4))\n",
    "\n",
    "  for i in range(predictions.shape[0]):\n",
    "      plt.subplot(4, 4, i+1)\n",
    "      plt.imshow(predictions[i, :, :, 0] * 127.5 + 127.5, cmap='gray')\n",
    "      plt.axis('off')\n",
    "\n",
    "  plt.savefig('image_at_epoch_{:04d}.png'.format(epoch))\n",
    "  plt.show()\n"
   ]
  },
  {
   "cell_type": "markdown",
   "id": "510133b6-d427-429e-8bfc-bd97304d6859",
   "metadata": {},
   "source": [
    "### Train the model\n",
    "Call the train() method defined above to train the generator and discriminator simultaneously. Note, training GANs can be tricky. It's important that the generator and discriminator do not overpower each other (e.g., that they train at a similar rate).\n",
    "\n",
    "At the beginning of the training, the generated images look like random noise. As training progresses, the generated digits will look increasingly real. After about 50 epochs, they resemble MNIST digits. This may take about one minute / epoch with the default settings on Colab."
   ]
  },
  {
   "cell_type": "code",
   "execution_count": 23,
   "id": "e13090ab-335d-4d89-8f2d-0f58ccab1b18",
   "metadata": {},
   "outputs": [
    {
     "data": {
      "image/png": "[encoded data removed]",
      "text/plain": [
       "<Figure size 400x400 with 16 Axes>"
      ]
     },
     "metadata": {},
     "output_type": "display_data"
    }
   ],
   "source": [
    "train(train_dataset, EPOCHS)"
   ]
  },
  {
   "cell_type": "code",
   "execution_count": null,
   "id": "e190595d-6f35-496d-8dcc-9064bb6847e4",
   "metadata": {},
   "outputs": [],
   "source": []
  },
  {
   "cell_type": "code",
   "execution_count": null,
   "id": "f73057db-4fa2-4610-8537-e29842a9e633",
   "metadata": {},
   "outputs": [],
   "source": []
  }
 ],
 "metadata": {
  "kernelspec": {
   "display_name": "Python 3 (ipykernel)",
   "language": "python",
   "name": "python3"
  },
  "language_info": {
   "codemirror_mode": {
    "name": "ipython",
    "version": 3
   },
   "file_extension": ".py",
   "mimetype": "text/x-python",
   "name": "python",
   "nbconvert_exporter": "python",
   "pygments_lexer": "ipython3",
   "version": "3.12.1"
  }
 },
 "nbformat": 4,
 "nbformat_minor": 5
}
